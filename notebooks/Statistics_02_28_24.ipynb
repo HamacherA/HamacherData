{
  "nbformat": 4,
  "nbformat_minor": 0,
  "metadata": {
    "colab": {
      "provenance": [],
      "include_colab_link": true
    },
    "kernelspec": {
      "name": "python3",
      "display_name": "Python 3"
    },
    "language_info": {
      "name": "python"
    }
  },
  "cells": [
    {
      "cell_type": "markdown",
      "metadata": {
        "id": "view-in-github",
        "colab_type": "text"
      },
      "source": [
        "<a href=\"https://colab.research.google.com/github/HamacherA/HamacherData/blob/main/notebooks/Statistics_02_28_24.ipynb\" target=\"_parent\"><img src=\"https://colab.research.google.com/assets/colab-badge.svg\" alt=\"Open In Colab\"/></a>"
      ]
    },
    {
      "cell_type": "markdown",
      "source": [
        "# Statistics for Neuroscientists\n",
        "\n",
        "This notebook will discuss **descriptive** and **inferential** statistics, and introduce ways to implement them in Python.\n",
        "\n",
        "### By the end of this notebook, you will be able to:\n",
        "\n",
        "* Identify when to use descriptive or inferential statistics\n",
        "* Apply the appropriate statistical tests to compare two groups\n",
        "* Use the stats package from SciPy to run simple tests in Python\n",
        "* Test direction selectivity differences in two Brain Observatory cell types\n",
        "\n",
        "\n"
      ],
      "metadata": {
        "id": "EvkdoGKpqxDB"
      }
    },
    {
      "cell_type": "markdown",
      "source": [
        "## Part One: Population vs sample distributions\n",
        "\n",
        "**Descriptive statistics** summarize the main features of a data set.\n",
        "\n",
        "It's important to distinguish between the following:\n",
        "\n",
        "* **Observation**: result from one trial of an experiment (like a sweep)\n",
        "* **Sample**: results from multiple independent trials (all sweeps)\n",
        "* **Population**: the *ground truth*; all possible observations that could be seen\n",
        "\n",
        "Distributions differ in their **location** (mean, $\\\\mu$) and **spread** (standard deviation, $\\\\sigma$). Below, we'll define a **population distribution** and plot it."
      ],
      "metadata": {
        "id": "fHn9N0l_rMQt"
      }
    },
    {
      "cell_type": "code",
      "source": [
        "# Import our necessary toolboxes and tell matplotlib to plot inline\n",
        "import numpy as np\n",
        "%matplotlib inline\n",
        "import matplotlib.pyplot as plt\n",
        "\n",
        "# Decide on a mean and a standard deviation\n",
        "mu, sigma = 3, 2\n",
        "\n",
        "# Use np.random.normal to create a distribution of 10,000 points with our given mu & sigma\n",
        "pop = np.random.normal(mu, sigma, 10000)"
      ],
      "metadata": {
        "id": "ais0ngbBrlZT"
      },
      "execution_count": 2,
      "outputs": []
    },
    {
      "cell_type": "code",
      "source": [
        "# Plot a histogram with 30 bins\n",
        "# Giving it the argument density=True will plot normalized counts\n",
        "# This will create a probability density (rather than raw counts)\n",
        "plt.hist(pop, 30, density=True)\n",
        "plt.axvline(mu,color='r')\n",
        "plt.title('Population distribution of 10,000 points')\n",
        "plt.show()"
      ],
      "metadata": {
        "id": "YXvbuoAgrucu",
        "outputId": "1297bb36-951d-4b48-80f7-6f1309a8d9be",
        "colab": {
          "base_uri": "https://localhost:8080/",
          "height": 452
        }
      },
      "execution_count": 3,
      "outputs": [
        {
          "output_type": "display_data",
          "data": {
            "text/plain": [
              "<Figure size 640x480 with 1 Axes>"
            ],
            "image/png": "[encoded data removed]"
          },
          "metadata": {}
        }
      ]
    },
    {
      "cell_type": "markdown",
      "source": [
        "There are various ways we can describe the distribution of the dataset, beyond the standard deviation:\n",
        "\n",
        "* Range (minimum and maximum)\n",
        "* Variance ($\\\\sigma^2$)\n",
        "* Standard Error of the Mean (S.E.M., $\\\\sigma/\\\\sqrt{n}$)\n",
        "* Confidence Intervals\n",
        "\n",
        "We can easily get many of these descriptive statistics by using the `scipy stats` package method `describe()`. [Documentation here.](https://docs.scipy.org/doc/scipy/reference/generated/scipy.stats.describe.html)"
      ],
      "metadata": {
        "id": "na83NXSZrzFV"
      }
    },
    {
      "cell_type": "code",
      "source": [
        "from scipy import stats\n",
        "\n",
        "stats.describe(pop)"
      ],
      "metadata": {
        "id": "F66gjMPxsFeK",
        "outputId": "c04af15f-b458-44cd-fff5-0d640c83656d",
        "colab": {
          "base_uri": "https://localhost:8080/"
        }
      },
      "execution_count": 4,
      "outputs": [
        {
          "output_type": "execute_result",
          "data": {
            "text/plain": [
              "DescribeResult(nobs=10000, minmax=(-5.130380846530411, 11.523987826407463), mean=3.012129665241682, variance=4.000420345426049, skewness=0.03011439150206202, kurtosis=0.004410464998830577)"
            ]
          },
          "metadata": {},
          "execution_count": 4
        }
      ]
    },
    {
      "cell_type": "markdown",
      "source": [
        "We created a normal distribution from a mean of 3 but with limited points, so these values are *just* slightly off. You'll also notice that the variance is indeed our standard deviation (2) squared.\n",
        "\n",
        "Our variable `pop` is the \\\"ground truth\\\" population. However, we'll rarely have *10,000* datapoints in our sample. So, let's generate a more realistic sample, and see how the mean compares."
      ],
      "metadata": {
        "id": "XUiOEdrmsUFU"
      }
    },
    {
      "cell_type": "code",
      "source": [
        "# Create a sample distribution with less data points\n",
        "sample_mean, sample_sigma = 3, 2\n",
        "sample = np.random.normal(sample_mean, sample_sigma, 20)\n",
        "\n",
        "# Plot our histogram, with alpha to 0.5 which will make the chart slightly transparent\n",
        "plt.hist(pop, 30, alpha=0.5, density=True)\n",
        "plt.hist(sample, 30, alpha=0.5, color='r',density=True)\n",
        "plt.axvline(np.mean(pop),color='blue') # Take the mean and plot a vertical blue line\n",
        "plt.axvline(np.mean(sample),color='red') # Take the mean and plot a vertical red line\n",
        "plt.show()"
      ],
      "metadata": {
        "id": "FH2BmXFtse61",
        "outputId": "1e2fee1d-0197-47fd-d52b-ac9bc563df9d",
        "colab": {
          "base_uri": "https://localhost:8080/",
          "height": 430
        }
      },
      "execution_count": 9,
      "outputs": [
        {
          "output_type": "display_data",
          "data": {
            "text/plain": [
              "<Figure size 640x480 with 1 Axes>"
            ],
            "image/png": "[encoded data removed]"
          },
          "metadata": {}
        }
      ]
    },
    {
      "cell_type": "code",
      "source": [
        "# Look at the descriptive statistics of our sample\n",
        "print(stats.describe(sample))"
      ],
      "metadata": {
        "id": "dUzQxuk3shmb",
        "outputId": "646732e3-4648-4818-8dd9-abc461ed79b3",
        "colab": {
          "base_uri": "https://localhost:8080/"
        }
      },
      "execution_count": 10,
      "outputs": [
        {
          "output_type": "stream",
          "name": "stdout",
          "text": [
            "DescribeResult(nobs=20, minmax=(-0.11341992707929283, 7.1881490254973), mean=2.944288291360703, variance=3.7260506928809054, skewness=0.5825615896300862, kurtosis=-0.4089801033669631)\n"
          ]
        }
      ]
    },
    {
      "cell_type": "markdown",
      "source": [
        "## Part Two: The Central Limit Theorem\n",
        "\n",
        "With fewer samples, the mean of the sample distribution tends to be further from the mean of the population distribution. This is known as the **central limit theorem**, which states that the distribution of sample means will become increasingly close to a normal distribution as the sample size increases, regardless of the shape of the population distribution."
      ],
      "metadata": {
        "id": "FRwZ-sjusqMs"
      }
    },
    {
      "cell_type": "code",
      "source": [
        "fig,ax = plt.subplots(1,5,figsize=(20,5),sharey=True)\n",
        "\n",
        "mu = 0\n",
        "\n",
        "sample_means = []\n",
        "\n",
        "# For each subplot, create a plot.\n",
        "for a in range(len(ax)):\n",
        "\n",
        "    # Make the sample size = to 3^(a+1)\n",
        "    sample_size = 3**(a+1)\n",
        "\n",
        "    # Calculate the mean of sample of sample_size designated above, 10000 times\n",
        "    for x in range(10000):\n",
        "        sample_dist = np.random.gamma(mu, 10, sample_size) # Create a normal distribution with mu, sigma\n",
        "        sample_means.append(np.mean(sample_dist)) # Append the mean of this distribution\n",
        "\n",
        "    ax[a].hist(sample_means,color='teal',alpha = .5) # Plot the distribution of means\n",
        "    ax[a].set_title('sample size= '+ str(sample_size)+', mean = '+ str(np.round(np.mean(sample_means),3)))\n",
        "    ax[a].set_xlim([-20,20])\n",
        "    sample_means = [] # Reset the sample means\n",
        "\n",
        "plt.suptitle('Distributions of 10,000 sample means for a population with mean '+str(mu),fontsize=16)\n",
        "\n",
        "plt.show()"
      ],
      "metadata": {
        "id": "p-we6cpss2EE",
        "outputId": "a47d4b7e-a95b-4862-e37e-b6828e462c37",
        "colab": {
          "base_uri": "https://localhost:8080/",
          "height": 495
        }
      },
      "execution_count": 54,
      "outputs": [
        {
          "output_type": "display_data",
          "data": {
            "text/plain": [
              "<Figure size 2000x500 with 5 Axes>"
            ],
            "image/png": "[encoded data removed]"
          },
          "metadata": {}
        }
      ]
    },
    {
      "cell_type": "markdown",
      "source": [
        "## Part Three: Skewed Distributions\n",
        "\n",
        "However, not every population in nature is **normally distributed**. In fact, most populations are slightly skewed. Let's demonstrate a population distribution and sample distribution that is drawn from a [gamma distribution](https://en.wikipedia.org/wiki/Gamma_distribution)."
      ],
      "metadata": {
        "id": "BibYcLQouwRe"
      }
    },
    {
      "cell_type": "code",
      "source": [
        "# Create a skewed distribution of 10,000 points with our given mu & sigma\n",
        "pop_size = 10000\n",
        "sample_size = 100\n",
        "\n",
        "skewed_pop = np.random.gamma(7.5,1,pop_size)\n",
        "skewed_sample = np.random.gamma(7.5,1,sample_size)\n",
        "\n",
        "pop_stats = stats.describe(skewed_sample)\n",
        "sample_stats = stats.describe(skewed_pop)\n",
        "\n",
        "sample_stat, sample_pvalue = stats.skewtest(skewed_sample)\n",
        "pop_stat, pop_pvalue = stats.skewtest(skewed_pop)\n",
        "\n",
        "plt.hist(skewed_pop, 30, alpha = .3, density=True)\n",
        "plt.hist(skewed_sample, 30, alpha = .3, density=True)\n",
        "if pop_pvalue < .05:\n",
        "  plt.axvline(np.median(skewed_pop), color = 'green')\n",
        "else:\n",
        "  plt.axvline(pop_stats.mean,color='blue')\n",
        "if sample_pvalue < .05:\n",
        "  plt.axvline(np.median(skewed_sample), color = 'purple')\n",
        "else:\n",
        "  plt.axvline(sample_stats.mean,color='orange') # plot the mean of the sample\n",
        "\n",
        "plt.legend(['Population','Sample'])\n",
        "\n",
        "plt.show()\n"
      ],
      "metadata": {
        "id": "uMMaX_b7u2_q",
        "outputId": "5947a1c2-7bfa-4234-b8f5-6c4dc52cb88f",
        "colab": {
          "base_uri": "https://localhost:8080/",
          "height": 430
        }
      },
      "execution_count": 53,
      "outputs": [
        {
          "output_type": "display_data",
          "data": {
            "text/plain": [
              "<Figure size 640x480 with 1 Axes>"
            ],
            "image/png": "[encoded data removed]"
          },
          "metadata": {}
        }
      ]
    },
    {
      "cell_type": "markdown",
      "source": [
        "You might notice that with this skewed population, the mean is a pretty poor descriptor of both distributions. **When the skew is bad (*statistically bad*), we should report the median.**\n",
        "\n"
      ],
      "metadata": {
        "id": "afsSR0KPvBJq"
      }
    },
    {
      "cell_type": "markdown",
      "source": [
        "### Important notes:\n",
        "\n",
        "* <code>stats.describe()</code> doesn't give us the median (annoyingly) but `np.median()` can!\n",
        "* The `stats.skewtest()` method ([documentation here](https://docs.scipy.org/doc/scipy/reference/generated/scipy.stats.skewtest.html#scipy.stats.skewtest)) implements the [D'Agostino-Pearson skewness test](https://www.jstor.org/stable/2684359?seq=1), one of many different tests (e.g., the Kolmogorov-Smirov test) that can be used to check the normality of a distribution.\n",
        "* This code can return a statistic as well as a pvalue, if you designate it."
      ],
      "metadata": {
        "id": "mCTY36dSvSSS"
      }
    },
    {
      "cell_type": "markdown",
      "source": [
        "><b>Task:</b>\n",
        "1. Rework the code directly above so that if the skew is significant (you can use <code>stats.skewtest()</code> for that!), plot and report the <b>median</b> instead of the mean.\n",
        "2. Rework our demonstration of the central limit theorem for a skewed, rather than a normal, population. Does the theorem still hold?"
      ],
      "metadata": {
        "id": "htEmP2-Wvmio"
      }
    },
    {
      "cell_type": "markdown",
      "source": [
        "## Part Four: Hypothesis Testing\n",
        "\n",
        "**Inferential statistics** generalize from observed data to the world at large\n",
        "\n",
        "Most often, the goal of our hypothesis testing is to test whether or not two distributions are different, or if a distribution has a different mean than the underlying population distribution.\n",
        "\n",
        "With the normal sample population we generated above, our **null hypothesis** is that the mean of our sample distribution is equal to 3. We want to test the probability that this is not true. Since we know our distributions are normal (they're generated from a normal distribution!) we can use **parametric statistics** to test our hypothesis.\n",
        "\n",
        "The SciPy stats package has [many hypothesis testing tools](https://docs.scipy.org/doc/scipy/reference/stats.html) (see Statistical Tests). First, we can use a one-way t-test to ask whether our population has a mean different than three."
      ],
      "metadata": {
        "id": "z0FHZ1oGv0QQ"
      }
    },
    {
      "cell_type": "code",
      "source": [
        "sample_mean, sample_sigma = 3, 2\n",
        "sample_pop = np.random.normal(sample_mean, sample_sigma, 20)\n",
        "stats.ttest_1samp(sample_pop,1)"
      ],
      "metadata": {
        "id": "YSTc0RTswETV",
        "outputId": "f5a4e3a1-9583-4b83-dcaa-3b70564d7f08",
        "colab": {
          "base_uri": "https://localhost:8080/"
        }
      },
      "execution_count": 58,
      "outputs": [
        {
          "output_type": "execute_result",
          "data": {
            "text/plain": [
              "TtestResult(statistic=2.4773198844436117, pvalue=0.02280349970636171, df=19)"
            ]
          },
          "metadata": {},
          "execution_count": 58
        }
      ]
    },
    {
      "cell_type": "markdown",
      "source": [
        "Not surprisingly, if we create a normal distribution of mean 3, the distribution is not likely to be different than 3. However, what happens if we change the mean, standard deviation, or sample size?\n",
        "\n",
        "In most cases, we will be testing whether or not two distributions are different from eachother. In order to do so, we can use the independent t-test in our stats package: `stats.ttest_ind()`. If we had paired samples, we would use a dependent t-test [as seen here](https://docs.scipy.org/doc/scipy/reference/generated/scipy.stats.ttest_rel.html#scipy.stats.ttest_rel)."
      ],
      "metadata": {
        "id": "2yUpMH7UwKg_"
      }
    },
    {
      "cell_type": "code",
      "source": [
        "# Create two distributions and test whether they're different\n",
        "pop_1 = np.random.normal(3,2,20)\n",
        "pop_2 = np.random.normal(5,2,20)\n",
        "\n",
        "stats.ttest_ind(pop_1,pop_2)"
      ],
      "metadata": {
        "id": "wUQJhuG1wW34",
        "outputId": "b79580c6-8d6f-432e-bf53-9f66c57f7407",
        "colab": {
          "base_uri": "https://localhost:8080/"
        }
      },
      "execution_count": 59,
      "outputs": [
        {
          "output_type": "execute_result",
          "data": {
            "text/plain": [
              "Ttest_indResult(statistic=-1.7519470004564928, pvalue=0.08785037101438876)"
            ]
          },
          "metadata": {},
          "execution_count": 59
        }
      ]
    },
    {
      "cell_type": "markdown",
      "source": [
        "If one of our populations is skewed, however, we **cannot use a t-test**. A t-test assumes that the populations are normally distributed. For skewed populations, we can use either the [Mann-Whitney U](https://docs.scipy.org/doc/scipy/reference/generated/scipy.stats.mannwhitneyu.html#scipy.stats.mannwhitneyu) (for independent samples, `stats.mannwhitneyu()`) or the [Wilcoxon Signed Rank Test](https://docs.scipy.org/doc/scipy/reference/generated/scipy.stats.wilcoxon.html#scipy.stats.wilcoxon) (for dependent/paired samples,`stats.wilcoxon()`)."
      ],
      "metadata": {
        "id": "BlG04Tr5wc5T"
      }
    },
    {
      "cell_type": "code",
      "source": [
        "skewed_pop = np.random.gamma(7.5,1,10000)\n",
        "comparison_pop = np.random.normal(8,2,20)\n",
        "\n",
        "stats.mannwhitneyu(skewed_pop,comparison_pop)"
      ],
      "metadata": {
        "id": "S1JTqMCtwiKz",
        "outputId": "a9f7ab25-8055-4e97-d2da-e92000e3eb58",
        "colab": {
          "base_uri": "https://localhost:8080/"
        }
      },
      "execution_count": 60,
      "outputs": [
        {
          "output_type": "execute_result",
          "data": {
            "text/plain": [
              "MannwhitneyuResult(statistic=71284.0, pvalue=0.02628592582641588)"
            ]
          },
          "metadata": {},
          "execution_count": 60
        }
      ]
    },
    {
      "cell_type": "markdown",
      "source": [
        "## Part Five: Testing Direction Selectivity in the Brain Observatory\n",
        "\n",
        "Let's work with some real data to apply what we've learned above. Below, we'll create our BrainObservatoryCache instance and look at the possible cre_lines."
      ],
      "metadata": {
        "id": "VUYcIQna4dvS"
      }
    },
    {
      "cell_type": "code",
      "source": [
        "try:\n",
        "    import allensdk\n",
        "    print('allensdk imported')\n",
        "except ImportError as e:\n",
        "    !pip install allensdk\n",
        "\n",
        "# Import pandas & the necessary module from the AllenSDK\n",
        "import pandas as pd\n",
        "from allensdk.core.brain_observatory_cache import BrainObservatoryCache\n",
        "\n",
        "# Create an instance of the Brain Observatory Cache as an object, \"boc.\"\n",
        "boc = BrainObservatoryCache(manifest_file='/datasets/allen-brain-observatory/visual-coding-2p/manifest.json')\n",
        "\n",
        "cre_lines = boc.get_all_cre_lines()\n",
        "print(cre_lines)"
      ],
      "metadata": {
        "id": "_XQ9HpTD4iSf",
        "outputId": "c57fdd02-e56b-48db-f072-5a01191c3a8d",
        "colab": {
          "base_uri": "https://localhost:8080/"
        }
      },
      "execution_count": 1,
      "outputs": [
        {
          "output_type": "stream",
          "name": "stdout",
          "text": [
            "allensdk imported\n",
            "['Cux2-CreERT2', 'Emx1-IRES-Cre', 'Fezf2-CreER', 'Nr5a1-Cre', 'Ntsr1-Cre_GN220', 'Pvalb-IRES-Cre', 'Rbp4-Cre_KL100', 'Rorb-IRES2-Cre', 'Scnn1a-Tg3-Cre', 'Slc17a7-IRES2-Cre', 'Sst-IRES-Cre', 'Tlx3-Cre_PL56', 'Vip-IRES-Cre']\n"
          ]
        }
      ]
    },
    {
      "cell_type": "markdown",
      "source": [
        "There's a longstanding debate over whether inhibitory cells in cortex are as direction selective as excitatory cells in cortex. Let's compare the direction selectivity of two different Cre lines: Emx1-Cre, [which marks excitatory cells in cortex](https://www.jneurosci.org/content/22/15/6309) and PV-Cre, which marks most of the inhibitory cells in cortex."
      ],
      "metadata": {
        "id": "dXC2FXsz5rm6"
      }
    },
    {
      "cell_type": "markdown",
      "source": [
        "><b>Task</b>: Get the experiment containers with <code>boc.get_experiment_containers(targeted_structures=[],cre_lines=[])</code> for all experiments in VISp for the Emx1-IRES-Cre and Pvalb-IRES-Cre lines, convert them to Pandas dataframes, and assign them to <code>emx_df</code> and <code>pv_df</code>, respectively."
      ],
      "metadata": {
        "id": "smQN3k5l5vel"
      }
    },
    {
      "cell_type": "code",
      "source": [
        "# Extract experiment containers\n",
        "emx_df = pd.DataFrame(boc.get_experiment_containers(targeted_structures=['VISp'],cre_lines=['Emx1-IRES-Cre']))\n",
        "pv_df = pd.DataFrame(boc.get_experiment_containers(targeted_structures=['VISp'],cre_lines=['Pvalb-IRES-Cre']))\n",
        "\n",
        "print(cre_lines)"
      ],
      "metadata": {
        "id": "9xEk9vOF50G9",
        "outputId": "921adf27-aea5-4ad9-e8a0-4ea3e69c389e",
        "colab": {
          "base_uri": "https://localhost:8080/",
          "height": 221
        }
      },
      "execution_count": 67,
      "outputs": [
        {
          "output_type": "stream",
          "name": "stdout",
          "text": [
            "['Cux2-CreERT2', 'Emx1-IRES-Cre', 'Fezf2-CreER', 'Nr5a1-Cre', 'Ntsr1-Cre_GN220', 'Pvalb-IRES-Cre', 'Rbp4-Cre_KL100', 'Rorb-IRES2-Cre', 'Scnn1a-Tg3-Cre', 'Slc17a7-IRES2-Cre', 'Sst-IRES-Cre', 'Tlx3-Cre_PL56', 'Vip-IRES-Cre']\n"
          ]
        },
        {
          "output_type": "execute_result",
          "data": {
            "text/plain": [
              "pandas.core.frame.DataFrame"
            ],
            "text/html": [
              "<div style=\"max-width:800px; border: 1px solid var(--colab-border-color);\"><style>\n",
              "      pre.function-repr-contents {\n",
              "        overflow-x: auto;\n",
              "        padding: 8px 12px;\n",
              "        max-height: 500px;\n",
              "      }\n",
              "\n",
              "      pre.function-repr-contents.function-repr-contents-collapsed {\n",
              "        cursor: pointer;\n",
              "        max-height: 100px;\n",
              "      }\n",
              "    </style>\n",
              "    <pre style=\"white-space: initial; background:\n",
              "         var(--colab-secondary-surface-color); padding: 8px 12px;\n",
              "         border-bottom: 1px solid var(--colab-border-color);\"><b>pandas.core.frame.DataFrame</b><br/>def __init__(data=None, index: Axes | None=None, columns: Axes | None=None, dtype: Dtype | None=None, copy: bool | None=None) -&gt; None</pre><pre class=\"function-repr-contents function-repr-contents-collapsed\" style=\"\"><a class=\"filepath\" style=\"display:none\" href=\"#\">/usr/local/lib/python3.10/dist-packages/pandas/core/frame.py</a>Two-dimensional, size-mutable, potentially heterogeneous tabular data.\n",
              "\n",
              "Data structure also contains labeled axes (rows and columns).\n",
              "Arithmetic operations align on both row and column labels. Can be\n",
              "thought of as a dict-like container for Series objects. The primary\n",
              "pandas data structure.\n",
              "\n",
              "Parameters\n",
              "----------\n",
              "data : ndarray (structured or homogeneous), Iterable, dict, or DataFrame\n",
              "    Dict can contain Series, arrays, constants, dataclass or list-like objects. If\n",
              "    data is a dict, column order follows insertion-order. If a dict contains Series\n",
              "    which have an index defined, it is aligned by its index.\n",
              "\n",
              "    .. versionchanged:: 0.25.0\n",
              "       If data is a list of dicts, column order follows insertion-order.\n",
              "\n",
              "index : Index or array-like\n",
              "    Index to use for resulting frame. Will default to RangeIndex if\n",
              "    no indexing information part of input data and no index provided.\n",
              "columns : Index or array-like\n",
              "    Column labels to use for resulting frame when data does not have them,\n",
              "    defaulting to RangeIndex(0, 1, 2, ..., n). If data contains column labels,\n",
              "    will perform column selection instead.\n",
              "dtype : dtype, default None\n",
              "    Data type to force. Only a single dtype is allowed. If None, infer.\n",
              "copy : bool or None, default None\n",
              "    Copy data from inputs.\n",
              "    For dict data, the default of None behaves like ``copy=True``.  For DataFrame\n",
              "    or 2d ndarray input, the default of None behaves like ``copy=False``.\n",
              "    If data is a dict containing one or more Series (possibly of different dtypes),\n",
              "    ``copy=False`` will ensure that these inputs are not copied.\n",
              "\n",
              "    .. versionchanged:: 1.3.0\n",
              "\n",
              "See Also\n",
              "--------\n",
              "DataFrame.from_records : Constructor from tuples, also record arrays.\n",
              "DataFrame.from_dict : From dicts of Series, arrays, or dicts.\n",
              "read_csv : Read a comma-separated values (csv) file into DataFrame.\n",
              "read_table : Read general delimited file into DataFrame.\n",
              "read_clipboard : Read text from clipboard into DataFrame.\n",
              "\n",
              "Notes\n",
              "-----\n",
              "Please reference the :ref:`User Guide &lt;basics.dataframe&gt;` for more information.\n",
              "\n",
              "Examples\n",
              "--------\n",
              "Constructing DataFrame from a dictionary.\n",
              "\n",
              "&gt;&gt;&gt; d = {&#x27;col1&#x27;: [1, 2], &#x27;col2&#x27;: [3, 4]}\n",
              "&gt;&gt;&gt; df = pd.DataFrame(data=d)\n",
              "&gt;&gt;&gt; df\n",
              "   col1  col2\n",
              "0     1     3\n",
              "1     2     4\n",
              "\n",
              "Notice that the inferred dtype is int64.\n",
              "\n",
              "&gt;&gt;&gt; df.dtypes\n",
              "col1    int64\n",
              "col2    int64\n",
              "dtype: object\n",
              "\n",
              "To enforce a single dtype:\n",
              "\n",
              "&gt;&gt;&gt; df = pd.DataFrame(data=d, dtype=np.int8)\n",
              "&gt;&gt;&gt; df.dtypes\n",
              "col1    int8\n",
              "col2    int8\n",
              "dtype: object\n",
              "\n",
              "Constructing DataFrame from a dictionary including Series:\n",
              "\n",
              "&gt;&gt;&gt; d = {&#x27;col1&#x27;: [0, 1, 2, 3], &#x27;col2&#x27;: pd.Series([2, 3], index=[2, 3])}\n",
              "&gt;&gt;&gt; pd.DataFrame(data=d, index=[0, 1, 2, 3])\n",
              "   col1  col2\n",
              "0     0   NaN\n",
              "1     1   NaN\n",
              "2     2   2.0\n",
              "3     3   3.0\n",
              "\n",
              "Constructing DataFrame from numpy ndarray:\n",
              "\n",
              "&gt;&gt;&gt; df2 = pd.DataFrame(np.array([[1, 2, 3], [4, 5, 6], [7, 8, 9]]),\n",
              "...                    columns=[&#x27;a&#x27;, &#x27;b&#x27;, &#x27;c&#x27;])\n",
              "&gt;&gt;&gt; df2\n",
              "   a  b  c\n",
              "0  1  2  3\n",
              "1  4  5  6\n",
              "2  7  8  9\n",
              "\n",
              "Constructing DataFrame from a numpy ndarray that has labeled columns:\n",
              "\n",
              "&gt;&gt;&gt; data = np.array([(1, 2, 3), (4, 5, 6), (7, 8, 9)],\n",
              "...                 dtype=[(&quot;a&quot;, &quot;i4&quot;), (&quot;b&quot;, &quot;i4&quot;), (&quot;c&quot;, &quot;i4&quot;)])\n",
              "&gt;&gt;&gt; df3 = pd.DataFrame(data, columns=[&#x27;c&#x27;, &#x27;a&#x27;])\n",
              "...\n",
              "&gt;&gt;&gt; df3\n",
              "   c  a\n",
              "0  3  1\n",
              "1  6  4\n",
              "2  9  7\n",
              "\n",
              "Constructing DataFrame from dataclass:\n",
              "\n",
              "&gt;&gt;&gt; from dataclasses import make_dataclass\n",
              "&gt;&gt;&gt; Point = make_dataclass(&quot;Point&quot;, [(&quot;x&quot;, int), (&quot;y&quot;, int)])\n",
              "&gt;&gt;&gt; pd.DataFrame([Point(0, 0), Point(0, 3), Point(2, 3)])\n",
              "   x  y\n",
              "0  0  0\n",
              "1  0  3\n",
              "2  2  3</pre>\n",
              "      <script>\n",
              "      if (google.colab.kernel.accessAllowed && google.colab.files && google.colab.files.view) {\n",
              "        for (const element of document.querySelectorAll('.filepath')) {\n",
              "          element.style.display = 'block'\n",
              "          element.onclick = (event) => {\n",
              "            event.preventDefault();\n",
              "            event.stopPropagation();\n",
              "            google.colab.files.view(element.textContent, 475);\n",
              "          };\n",
              "        }\n",
              "      }\n",
              "      for (const element of document.querySelectorAll('.function-repr-contents')) {\n",
              "        element.onclick = (event) => {\n",
              "          event.preventDefault();\n",
              "          event.stopPropagation();\n",
              "          element.classList.toggle('function-repr-contents-collapsed');\n",
              "        };\n",
              "      }\n",
              "      </script>\n",
              "      </div>"
            ]
          },
          "metadata": {},
          "execution_count": 67
        }
      ]
    },
    {
      "cell_type": "markdown",
      "source": [
        "Now, we'll need to use the `get_cell_specimens()` method to extract all of the specimens with matching experiment container IDs (running this cell might take a few minutes)."
      ],
      "metadata": {
        "id": "jVEWHwmD8aft"
      }
    },
    {
      "cell_type": "code",
      "source": [
        "emx_containers = list(emx_df['id'])\n",
        "emx_specimens = pd.DataFrame(boc.get_cell_specimens(experiment_container_ids=emx_containers))\n",
        "\n",
        "pv_containers = list(pv_df['id'])\n",
        "pv_specimens = pd.DataFrame(boc.get_cell_specimens(experiment_container_ids=pv_containers))\n",
        "\n",
        "emx_specimens.head()"
      ],
      "metadata": {
        "id": "WXF9PWmU8edF",
        "outputId": "89ccd578-3fa4-4221-ce9d-422d2d71b6b8",
        "colab": {
          "base_uri": "https://localhost:8080/",
          "height": 516
        }
      },
      "execution_count": 68,
      "outputs": [
        {
          "output_type": "execute_result",
          "data": {
            "text/plain": [
              "   all_stim  area  cell_specimen_id  \\\n",
              "0     False  VISp         540988027   \n",
              "1     False  VISp         540988031   \n",
              "2     False  VISp         540988044   \n",
              "3     False  VISp         540988049   \n",
              "4     False  VISp         540988054   \n",
              "\n",
              "                                 donor_full_genotype    dsi_dg  \\\n",
              "0  Emx1-IRES-Cre/wt;Camk2a-tTA/wt;Ai93(TITL-GCaMP...       NaN   \n",
              "1  Emx1-IRES-Cre/wt;Camk2a-tTA/wt;Ai93(TITL-GCaMP...       NaN   \n",
              "2  Emx1-IRES-Cre/wt;Camk2a-tTA/wt;Ai93(TITL-GCaMP...       NaN   \n",
              "3  Emx1-IRES-Cre/wt;Camk2a-tTA/wt;Ai93(TITL-GCaMP...  0.576077   \n",
              "4  Emx1-IRES-Cre/wt;Camk2a-tTA/wt;Ai93(TITL-GCaMP...       NaN   \n",
              "\n",
              "   experiment_container_id  failed_experiment_container  g_dsi_dg  g_osi_dg  \\\n",
              "0                517328083                        False       NaN       NaN   \n",
              "1                517328083                        False       NaN       NaN   \n",
              "2                517328083                        False       NaN       NaN   \n",
              "3                517328083                        False  0.586004  0.939233   \n",
              "4                517328083                        False       NaN       NaN   \n",
              "\n",
              "   g_osi_sg  ...  specimen_id   tfdi_dg  time_to_peak_ns  time_to_peak_sg  \\\n",
              "0  0.678751  ...    509522655       NaN          0.23226              NaN   \n",
              "1  0.959401  ...    509522655       NaN          0.26544          0.26544   \n",
              "2       NaN  ...    509522655       NaN              NaN              NaN   \n",
              "3  0.480496  ...    509522655  0.339791          0.19908          0.29862   \n",
              "4  0.942361  ...    509522655       NaN          0.26544          0.29862   \n",
              "\n",
              "     tld1_id      tld1_name    tld2_id   tld2_name    tlr1_id  \\\n",
              "0  177836119  Emx1-IRES-Cre  177837320  Camk2a-tTA  265943423   \n",
              "1  177836119  Emx1-IRES-Cre  177837320  Camk2a-tTA  265943423   \n",
              "2  177836119  Emx1-IRES-Cre  177837320  Camk2a-tTA  265943423   \n",
              "3  177836119  Emx1-IRES-Cre  177837320  Camk2a-tTA  265943423   \n",
              "4  177836119  Emx1-IRES-Cre  177837320  Camk2a-tTA  265943423   \n",
              "\n",
              "            tlr1_name  \n",
              "0  Ai93(TITL-GCaMP6f)  \n",
              "1  Ai93(TITL-GCaMP6f)  \n",
              "2  Ai93(TITL-GCaMP6f)  \n",
              "3  Ai93(TITL-GCaMP6f)  \n",
              "4  Ai93(TITL-GCaMP6f)  \n",
              "\n",
              "[5 rows x 60 columns]"
            ],
            "text/html": [
              "\n",
              "  <div id=\"df-b22e3094-f59b-4279-afa8-375ccc1b8197\" class=\"colab-df-container\">\n",
              "    <div>\n",
              "<style scoped>\n",
              "    .dataframe tbody tr th:only-of-type {\n",
              "        vertical-align: middle;\n",
              "    }\n",
              "\n",
              "    .dataframe tbody tr th {\n",
              "        vertical-align: top;\n",
              "    }\n",
              "\n",
              "    .dataframe thead th {\n",
              "        text-align: right;\n",
              "    }\n",
              "</style>\n",
              "<table border=\"1\" class=\"dataframe\">\n",
              "  <thead>\n",
              "    <tr style=\"text-align: right;\">\n",
              "      <th></th>\n",
              "      <th>all_stim</th>\n",
              "      <th>area</th>\n",
              "      <th>cell_specimen_id</th>\n",
              "      <th>donor_full_genotype</th>\n",
              "      <th>dsi_dg</th>\n",
              "      <th>experiment_container_id</th>\n",
              "      <th>failed_experiment_container</th>\n",
              "      <th>g_dsi_dg</th>\n",
              "      <th>g_osi_dg</th>\n",
              "      <th>g_osi_sg</th>\n",
              "      <th>...</th>\n",
              "      <th>specimen_id</th>\n",
              "      <th>tfdi_dg</th>\n",
              "      <th>time_to_peak_ns</th>\n",
              "      <th>time_to_peak_sg</th>\n",
              "      <th>tld1_id</th>\n",
              "      <th>tld1_name</th>\n",
              "      <th>tld2_id</th>\n",
              "      <th>tld2_name</th>\n",
              "      <th>tlr1_id</th>\n",
              "      <th>tlr1_name</th>\n",
              "    </tr>\n",
              "  </thead>\n",
              "  <tbody>\n",
              "    <tr>\n",
              "      <th>0</th>\n",
              "      <td>False</td>\n",
              "      <td>VISp</td>\n",
              "      <td>540988027</td>\n",
              "      <td>Emx1-IRES-Cre/wt;Camk2a-tTA/wt;Ai93(TITL-GCaMP...</td>\n",
              "      <td>NaN</td>\n",
              "      <td>517328083</td>\n",
              "      <td>False</td>\n",
              "      <td>NaN</td>\n",
              "      <td>NaN</td>\n",
              "      <td>0.678751</td>\n",
              "      <td>...</td>\n",
              "      <td>509522655</td>\n",
              "      <td>NaN</td>\n",
              "      <td>0.23226</td>\n",
              "      <td>NaN</td>\n",
              "      <td>177836119</td>\n",
              "      <td>Emx1-IRES-Cre</td>\n",
              "      <td>177837320</td>\n",
              "      <td>Camk2a-tTA</td>\n",
              "      <td>265943423</td>\n",
              "      <td>Ai93(TITL-GCaMP6f)</td>\n",
              "    </tr>\n",
              "    <tr>\n",
              "      <th>1</th>\n",
              "      <td>False</td>\n",
              "      <td>VISp</td>\n",
              "      <td>540988031</td>\n",
              "      <td>Emx1-IRES-Cre/wt;Camk2a-tTA/wt;Ai93(TITL-GCaMP...</td>\n",
              "      <td>NaN</td>\n",
              "      <td>517328083</td>\n",
              "      <td>False</td>\n",
              "      <td>NaN</td>\n",
              "      <td>NaN</td>\n",
              "      <td>0.959401</td>\n",
              "      <td>...</td>\n",
              "      <td>509522655</td>\n",
              "      <td>NaN</td>\n",
              "      <td>0.26544</td>\n",
              "      <td>0.26544</td>\n",
              "      <td>177836119</td>\n",
              "      <td>Emx1-IRES-Cre</td>\n",
              "      <td>177837320</td>\n",
              "      <td>Camk2a-tTA</td>\n",
              "      <td>265943423</td>\n",
              "      <td>Ai93(TITL-GCaMP6f)</td>\n",
              "    </tr>\n",
              "    <tr>\n",
              "      <th>2</th>\n",
              "      <td>False</td>\n",
              "      <td>VISp</td>\n",
              "      <td>540988044</td>\n",
              "      <td>Emx1-IRES-Cre/wt;Camk2a-tTA/wt;Ai93(TITL-GCaMP...</td>\n",
              "      <td>NaN</td>\n",
              "      <td>517328083</td>\n",
              "      <td>False</td>\n",
              "      <td>NaN</td>\n",
              "      <td>NaN</td>\n",
              "      <td>NaN</td>\n",
              "      <td>...</td>\n",
              "      <td>509522655</td>\n",
              "      <td>NaN</td>\n",
              "      <td>NaN</td>\n",
              "      <td>NaN</td>\n",
              "      <td>177836119</td>\n",
              "      <td>Emx1-IRES-Cre</td>\n",
              "      <td>177837320</td>\n",
              "      <td>Camk2a-tTA</td>\n",
              "      <td>265943423</td>\n",
              "      <td>Ai93(TITL-GCaMP6f)</td>\n",
              "    </tr>\n",
              "    <tr>\n",
              "      <th>3</th>\n",
              "      <td>False</td>\n",
              "      <td>VISp</td>\n",
              "      <td>540988049</td>\n",
              "      <td>Emx1-IRES-Cre/wt;Camk2a-tTA/wt;Ai93(TITL-GCaMP...</td>\n",
              "      <td>0.576077</td>\n",
              "      <td>517328083</td>\n",
              "      <td>False</td>\n",
              "      <td>0.586004</td>\n",
              "      <td>0.939233</td>\n",
              "      <td>0.480496</td>\n",
              "      <td>...</td>\n",
              "      <td>509522655</td>\n",
              "      <td>0.339791</td>\n",
              "      <td>0.19908</td>\n",
              "      <td>0.29862</td>\n",
              "      <td>177836119</td>\n",
              "      <td>Emx1-IRES-Cre</td>\n",
              "      <td>177837320</td>\n",
              "      <td>Camk2a-tTA</td>\n",
              "      <td>265943423</td>\n",
              "      <td>Ai93(TITL-GCaMP6f)</td>\n",
              "    </tr>\n",
              "    <tr>\n",
              "      <th>4</th>\n",
              "      <td>False</td>\n",
              "      <td>VISp</td>\n",
              "      <td>540988054</td>\n",
              "      <td>Emx1-IRES-Cre/wt;Camk2a-tTA/wt;Ai93(TITL-GCaMP...</td>\n",
              "      <td>NaN</td>\n",
              "      <td>517328083</td>\n",
              "      <td>False</td>\n",
              "      <td>NaN</td>\n",
              "      <td>NaN</td>\n",
              "      <td>0.942361</td>\n",
              "      <td>...</td>\n",
              "      <td>509522655</td>\n",
              "      <td>NaN</td>\n",
              "      <td>0.26544</td>\n",
              "      <td>0.29862</td>\n",
              "      <td>177836119</td>\n",
              "      <td>Emx1-IRES-Cre</td>\n",
              "      <td>177837320</td>\n",
              "      <td>Camk2a-tTA</td>\n",
              "      <td>265943423</td>\n",
              "      <td>Ai93(TITL-GCaMP6f)</td>\n",
              "    </tr>\n",
              "  </tbody>\n",
              "</table>\n",
              "<p>5 rows × 60 columns</p>\n",
              "</div>\n",
              "    <div class=\"colab-df-buttons\">\n",
              "\n",
              "  <div class=\"colab-df-container\">\n",
              "    <button class=\"colab-df-convert\" onclick=\"convertToInteractive('df-b22e3094-f59b-4279-afa8-375ccc1b8197')\"\n",
              "            title=\"Convert this dataframe to an interactive table.\"\n",
              "            style=\"display:none;\">\n",
              "\n",
              "  <svg xmlns=\"http://www.w3.org/2000/svg\" height=\"24px\" viewBox=\"0 -960 960 960\">\n",
              "    <path d=\"M120-120v-720h720v720H120Zm60-500h600v-160H180v160Zm220 220h160v-160H400v160Zm0 220h160v-160H400v160ZM180-400h160v-160H180v160Zm440 0h160v-160H620v160ZM180-180h160v-160H180v160Zm440 0h160v-160H620v160Z\"/>\n",
              "  </svg>\n",
              "    </button>\n",
              "\n",
              "  <style>\n",
              "    .colab-df-container {\n",
              "      display:flex;\n",
              "      gap: 12px;\n",
              "    }\n",
              "\n",
              "    .colab-df-convert {\n",
              "      background-color: #E8F0FE;\n",
              "      border: none;\n",
              "      border-radius: 50%;\n",
              "      cursor: pointer;\n",
              "      display: none;\n",
              "      fill: #1967D2;\n",
              "      height: 32px;\n",
              "      padding: 0 0 0 0;\n",
              "      width: 32px;\n",
              "    }\n",
              "\n",
              "    .colab-df-convert:hover {\n",
              "      background-color: #E2EBFA;\n",
              "      box-shadow: 0px 1px 2px rgba(60, 64, 67, 0.3), 0px 1px 3px 1px rgba(60, 64, 67, 0.15);\n",
              "      fill: #174EA6;\n",
              "    }\n",
              "\n",
              "    .colab-df-buttons div {\n",
              "      margin-bottom: 4px;\n",
              "    }\n",
              "\n",
              "    [theme=dark] .colab-df-convert {\n",
              "      background-color: #3B4455;\n",
              "      fill: #D2E3FC;\n",
              "    }\n",
              "\n",
              "    [theme=dark] .colab-df-convert:hover {\n",
              "      background-color: #434B5C;\n",
              "      box-shadow: 0px 1px 3px 1px rgba(0, 0, 0, 0.15);\n",
              "      filter: drop-shadow(0px 1px 2px rgba(0, 0, 0, 0.3));\n",
              "      fill: #FFFFFF;\n",
              "    }\n",
              "  </style>\n",
              "\n",
              "    <script>\n",
              "      const buttonEl =\n",
              "        document.querySelector('#df-b22e3094-f59b-4279-afa8-375ccc1b8197 button.colab-df-convert');\n",
              "      buttonEl.style.display =\n",
              "        google.colab.kernel.accessAllowed ? 'block' : 'none';\n",
              "\n",
              "      async function convertToInteractive(key) {\n",
              "        const element = document.querySelector('#df-b22e3094-f59b-4279-afa8-375ccc1b8197');\n",
              "        const dataTable =\n",
              "          await google.colab.kernel.invokeFunction('convertToInteractive',\n",
              "                                                    [key], {});\n",
              "        if (!dataTable) return;\n",
              "\n",
              "        const docLinkHtml = 'Like what you see? Visit the ' +\n",
              "          '<a target=\"_blank\" href=https://colab.research.google.com/notebooks/data_table.ipynb>data table notebook</a>'\n",
              "          + ' to learn more about interactive tables.';\n",
              "        element.innerHTML = '';\n",
              "        dataTable['output_type'] = 'display_data';\n",
              "        await google.colab.output.renderOutput(dataTable, element);\n",
              "        const docLink = document.createElement('div');\n",
              "        docLink.innerHTML = docLinkHtml;\n",
              "        element.appendChild(docLink);\n",
              "      }\n",
              "    </script>\n",
              "  </div>\n",
              "\n",
              "\n",
              "<div id=\"df-bd914a4a-1a37-4f9d-b5ed-72f1f2dc6b0d\">\n",
              "  <button class=\"colab-df-quickchart\" onclick=\"quickchart('df-bd914a4a-1a37-4f9d-b5ed-72f1f2dc6b0d')\"\n",
              "            title=\"Suggest charts\"\n",
              "            style=\"display:none;\">\n",
              "\n",
              "<svg xmlns=\"http://www.w3.org/2000/svg\" height=\"24px\"viewBox=\"0 0 24 24\"\n",
              "     width=\"24px\">\n",
              "    <g>\n",
              "        <path d=\"M19 3H5c-1.1 0-2 .9-2 2v14c0 1.1.9 2 2 2h14c1.1 0 2-.9 2-2V5c0-1.1-.9-2-2-2zM9 17H7v-7h2v7zm4 0h-2V7h2v10zm4 0h-2v-4h2v4z\"/>\n",
              "    </g>\n",
              "</svg>\n",
              "  </button>\n",
              "\n",
              "<style>\n",
              "  .colab-df-quickchart {\n",
              "      --bg-color: #E8F0FE;\n",
              "      --fill-color: #1967D2;\n",
              "      --hover-bg-color: #E2EBFA;\n",
              "      --hover-fill-color: #174EA6;\n",
              "      --disabled-fill-color: #AAA;\n",
              "      --disabled-bg-color: #DDD;\n",
              "  }\n",
              "\n",
              "  [theme=dark] .colab-df-quickchart {\n",
              "      --bg-color: #3B4455;\n",
              "      --fill-color: #D2E3FC;\n",
              "      --hover-bg-color: #434B5C;\n",
              "      --hover-fill-color: #FFFFFF;\n",
              "      --disabled-bg-color: #3B4455;\n",
              "      --disabled-fill-color: #666;\n",
              "  }\n",
              "\n",
              "  .colab-df-quickchart {\n",
              "    background-color: var(--bg-color);\n",
              "    border: none;\n",
              "    border-radius: 50%;\n",
              "    cursor: pointer;\n",
              "    display: none;\n",
              "    fill: var(--fill-color);\n",
              "    height: 32px;\n",
              "    padding: 0;\n",
              "    width: 32px;\n",
              "  }\n",
              "\n",
              "  .colab-df-quickchart:hover {\n",
              "    background-color: var(--hover-bg-color);\n",
              "    box-shadow: 0 1px 2px rgba(60, 64, 67, 0.3), 0 1px 3px 1px rgba(60, 64, 67, 0.15);\n",
              "    fill: var(--button-hover-fill-color);\n",
              "  }\n",
              "\n",
              "  .colab-df-quickchart-complete:disabled,\n",
              "  .colab-df-quickchart-complete:disabled:hover {\n",
              "    background-color: var(--disabled-bg-color);\n",
              "    fill: var(--disabled-fill-color);\n",
              "    box-shadow: none;\n",
              "  }\n",
              "\n",
              "  .colab-df-spinner {\n",
              "    border: 2px solid var(--fill-color);\n",
              "    border-color: transparent;\n",
              "    border-bottom-color: var(--fill-color);\n",
              "    animation:\n",
              "      spin 1s steps(1) infinite;\n",
              "  }\n",
              "\n",
              "  @keyframes spin {\n",
              "    0% {\n",
              "      border-color: transparent;\n",
              "      border-bottom-color: var(--fill-color);\n",
              "      border-left-color: var(--fill-color);\n",
              "    }\n",
              "    20% {\n",
              "      border-color: transparent;\n",
              "      border-left-color: var(--fill-color);\n",
              "      border-top-color: var(--fill-color);\n",
              "    }\n",
              "    30% {\n",
              "      border-color: transparent;\n",
              "      border-left-color: var(--fill-color);\n",
              "      border-top-color: var(--fill-color);\n",
              "      border-right-color: var(--fill-color);\n",
              "    }\n",
              "    40% {\n",
              "      border-color: transparent;\n",
              "      border-right-color: var(--fill-color);\n",
              "      border-top-color: var(--fill-color);\n",
              "    }\n",
              "    60% {\n",
              "      border-color: transparent;\n",
              "      border-right-color: var(--fill-color);\n",
              "    }\n",
              "    80% {\n",
              "      border-color: transparent;\n",
              "      border-right-color: var(--fill-color);\n",
              "      border-bottom-color: var(--fill-color);\n",
              "    }\n",
              "    90% {\n",
              "      border-color: transparent;\n",
              "      border-bottom-color: var(--fill-color);\n",
              "    }\n",
              "  }\n",
              "</style>\n",
              "\n",
              "  <script>\n",
              "    async function quickchart(key) {\n",
              "      const quickchartButtonEl =\n",
              "        document.querySelector('#' + key + ' button');\n",
              "      quickchartButtonEl.disabled = true;  // To prevent multiple clicks.\n",
              "      quickchartButtonEl.classList.add('colab-df-spinner');\n",
              "      try {\n",
              "        const charts = await google.colab.kernel.invokeFunction(\n",
              "            'suggestCharts', [key], {});\n",
              "      } catch (error) {\n",
              "        console.error('Error during call to suggestCharts:', error);\n",
              "      }\n",
              "      quickchartButtonEl.classList.remove('colab-df-spinner');\n",
              "      quickchartButtonEl.classList.add('colab-df-quickchart-complete');\n",
              "    }\n",
              "    (() => {\n",
              "      let quickchartButtonEl =\n",
              "        document.querySelector('#df-bd914a4a-1a37-4f9d-b5ed-72f1f2dc6b0d button');\n",
              "      quickchartButtonEl.style.display =\n",
              "        google.colab.kernel.accessAllowed ? 'block' : 'none';\n",
              "    })();\n",
              "  </script>\n",
              "</div>\n",
              "    </div>\n",
              "  </div>\n"
            ],
            "application/vnd.google.colaboratory.intrinsic+json": {
              "type": "dataframe",
              "variable_name": "emx_specimens"
            }
          },
          "metadata": {},
          "execution_count": 68
        }
      ]
    },
    {
      "cell_type": "markdown",
      "source": [
        "><b>Task</b>: Create a plot with two subplots. The left should be a histogram of our DSI values ('dsi_dg') for Emx1-Cre and PV-Cre cells. The right should be a boxplot of the DSI values ('dsi_dg'). You can create a histogram of one column of a <code>dataframe</code> by using the syntax <code>df['column_name']</code>."
      ],
      "metadata": {
        "id": "PV7PzihF-Mmk"
      }
    },
    {
      "cell_type": "code",
      "source": [
        "# First, we need to filter NaN values out of our data because python will refuse to make boxplots if they're included\n",
        "\n",
        "emx_dsi = emx_specimens['dsi_dg']\n",
        "pv_dsi = pv_specimens['dsi_dg']\n",
        "emx_dsi = emx_dsi[~np.isnan(emx_dsi)] # Emx-IRES-Cre DSI values without NaN\n",
        "pv_dsi = pv_dsi[~np.isnan(pv_dsi)] # Pvalb-IRES-Cre DSI values without NaN\n",
        "filtered = [emx_dsi,pv_dsi]\n",
        "\n",
        "# Your code here! Start with defining your subplot axes\n",
        "\n",
        "fig, ax = plt.subplots(1,2,)\n",
        "# Next, make your histogram (see code cell in part three of this notebook for an example of how to make overlapping histograms)\n",
        "ax[0].hist(emx_df['dsi_dg'])\n",
        "# Next, make your boxplot (make sure you use the filtered data!)"
      ],
      "metadata": {
        "id": "_cja3ig8-R8P",
        "outputId": "d412397a-27c3-43e1-c71f-a5da382c803a",
        "colab": {
          "base_uri": "https://localhost:8080/",
          "height": 896
        }
      },
      "execution_count": 74,
      "outputs": [
        {
          "output_type": "error",
          "ename": "KeyError",
          "evalue": "'dsi_dg'",
          "traceback": [
            "\u001b[0;31m---------------------------------------------------------------------------\u001b[0m",
            "\u001b[0;31mKeyError\u001b[0m                                  Traceback (most recent call last)",
            "\u001b[0;32m/usr/local/lib/python3.10/dist-packages/pandas/core/indexes/base.py\u001b[0m in \u001b[0;36mget_loc\u001b[0;34m(self, key, method, tolerance)\u001b[0m\n\u001b[1;32m   3801\u001b[0m             \u001b[0;32mtry\u001b[0m\u001b[0;34m:\u001b[0m\u001b[0;34m\u001b[0m\u001b[0;34m\u001b[0m\u001b[0m\n\u001b[0;32m-> 3802\u001b[0;31m                 \u001b[0;32mreturn\u001b[0m \u001b[0mself\u001b[0m\u001b[0;34m.\u001b[0m\u001b[0m_engine\u001b[0m\u001b[0;34m.\u001b[0m\u001b[0mget_loc\u001b[0m\u001b[0;34m(\u001b[0m\u001b[0mcasted_key\u001b[0m\u001b[0;34m)\u001b[0m\u001b[0;34m\u001b[0m\u001b[0;34m\u001b[0m\u001b[0m\n\u001b[0m\u001b[1;32m   3803\u001b[0m             \u001b[0;32mexcept\u001b[0m \u001b[0mKeyError\u001b[0m \u001b[0;32mas\u001b[0m \u001b[0merr\u001b[0m\u001b[0;34m:\u001b[0m\u001b[0;34m\u001b[0m\u001b[0;34m\u001b[0m\u001b[0m\n",
            "\u001b[0;32m/usr/local/lib/python3.10/dist-packages/pandas/_libs/index.pyx\u001b[0m in \u001b[0;36mpandas._libs.index.IndexEngine.get_loc\u001b[0;34m()\u001b[0m\n",
            "\u001b[0;32m/usr/local/lib/python3.10/dist-packages/pandas/_libs/index.pyx\u001b[0m in \u001b[0;36mpandas._libs.index.IndexEngine.get_loc\u001b[0;34m()\u001b[0m\n",
            "\u001b[0;32mpandas/_libs/hashtable_class_helper.pxi\u001b[0m in \u001b[0;36mpandas._libs.hashtable.PyObjectHashTable.get_item\u001b[0;34m()\u001b[0m\n",
            "\u001b[0;32mpandas/_libs/hashtable_class_helper.pxi\u001b[0m in \u001b[0;36mpandas._libs.hashtable.PyObjectHashTable.get_item\u001b[0;34m()\u001b[0m\n",
            "\u001b[0;31mKeyError\u001b[0m: 'dsi_dg'",
            "\nThe above exception was the direct cause of the following exception:\n",
            "\u001b[0;31mKeyError\u001b[0m                                  Traceback (most recent call last)",
            "\u001b[0;32m<ipython-input-74-e33622baff23>\u001b[0m in \u001b[0;36m<cell line: 13>\u001b[0;34m()\u001b[0m\n\u001b[1;32m     11\u001b[0m \u001b[0mfig\u001b[0m\u001b[0;34m,\u001b[0m \u001b[0max\u001b[0m \u001b[0;34m=\u001b[0m \u001b[0mplt\u001b[0m\u001b[0;34m.\u001b[0m\u001b[0msubplots\u001b[0m\u001b[0;34m(\u001b[0m\u001b[0;36m1\u001b[0m\u001b[0;34m,\u001b[0m\u001b[0;36m2\u001b[0m\u001b[0;34m,\u001b[0m\u001b[0;34m)\u001b[0m\u001b[0;34m\u001b[0m\u001b[0;34m\u001b[0m\u001b[0m\n\u001b[1;32m     12\u001b[0m \u001b[0;31m# Next, make your histogram (see code cell in part three of this notebook for an example of how to make overlapping histograms)\u001b[0m\u001b[0;34m\u001b[0m\u001b[0;34m\u001b[0m\u001b[0m\n\u001b[0;32m---> 13\u001b[0;31m \u001b[0max\u001b[0m\u001b[0;34m[\u001b[0m\u001b[0;36m0\u001b[0m\u001b[0;34m]\u001b[0m\u001b[0;34m.\u001b[0m\u001b[0mhist\u001b[0m\u001b[0;34m(\u001b[0m\u001b[0memx_df\u001b[0m\u001b[0;34m[\u001b[0m\u001b[0;34m'dsi_dg'\u001b[0m\u001b[0;34m]\u001b[0m\u001b[0;34m)\u001b[0m\u001b[0;34m\u001b[0m\u001b[0;34m\u001b[0m\u001b[0m\n\u001b[0m\u001b[1;32m     14\u001b[0m \u001b[0;31m# Next, make your boxplot (make sure you use the filtered data!)\u001b[0m\u001b[0;34m\u001b[0m\u001b[0;34m\u001b[0m\u001b[0m\n",
            "\u001b[0;32m/usr/local/lib/python3.10/dist-packages/pandas/core/frame.py\u001b[0m in \u001b[0;36m__getitem__\u001b[0;34m(self, key)\u001b[0m\n\u001b[1;32m   3805\u001b[0m             \u001b[0;32mif\u001b[0m \u001b[0mself\u001b[0m\u001b[0;34m.\u001b[0m\u001b[0mcolumns\u001b[0m\u001b[0;34m.\u001b[0m\u001b[0mnlevels\u001b[0m \u001b[0;34m>\u001b[0m \u001b[0;36m1\u001b[0m\u001b[0;34m:\u001b[0m\u001b[0;34m\u001b[0m\u001b[0;34m\u001b[0m\u001b[0m\n\u001b[1;32m   3806\u001b[0m                 \u001b[0;32mreturn\u001b[0m \u001b[0mself\u001b[0m\u001b[0;34m.\u001b[0m\u001b[0m_getitem_multilevel\u001b[0m\u001b[0;34m(\u001b[0m\u001b[0mkey\u001b[0m\u001b[0;34m)\u001b[0m\u001b[0;34m\u001b[0m\u001b[0;34m\u001b[0m\u001b[0m\n\u001b[0;32m-> 3807\u001b[0;31m             \u001b[0mindexer\u001b[0m \u001b[0;34m=\u001b[0m \u001b[0mself\u001b[0m\u001b[0;34m.\u001b[0m\u001b[0mcolumns\u001b[0m\u001b[0;34m.\u001b[0m\u001b[0mget_loc\u001b[0m\u001b[0;34m(\u001b[0m\u001b[0mkey\u001b[0m\u001b[0;34m)\u001b[0m\u001b[0;34m\u001b[0m\u001b[0;34m\u001b[0m\u001b[0m\n\u001b[0m\u001b[1;32m   3808\u001b[0m             \u001b[0;32mif\u001b[0m \u001b[0mis_integer\u001b[0m\u001b[0;34m(\u001b[0m\u001b[0mindexer\u001b[0m\u001b[0;34m)\u001b[0m\u001b[0;34m:\u001b[0m\u001b[0;34m\u001b[0m\u001b[0;34m\u001b[0m\u001b[0m\n\u001b[1;32m   3809\u001b[0m                 \u001b[0mindexer\u001b[0m \u001b[0;34m=\u001b[0m \u001b[0;34m[\u001b[0m\u001b[0mindexer\u001b[0m\u001b[0;34m]\u001b[0m\u001b[0;34m\u001b[0m\u001b[0;34m\u001b[0m\u001b[0m\n",
            "\u001b[0;32m/usr/local/lib/python3.10/dist-packages/pandas/core/indexes/base.py\u001b[0m in \u001b[0;36mget_loc\u001b[0;34m(self, key, method, tolerance)\u001b[0m\n\u001b[1;32m   3802\u001b[0m                 \u001b[0;32mreturn\u001b[0m \u001b[0mself\u001b[0m\u001b[0;34m.\u001b[0m\u001b[0m_engine\u001b[0m\u001b[0;34m.\u001b[0m\u001b[0mget_loc\u001b[0m\u001b[0;34m(\u001b[0m\u001b[0mcasted_key\u001b[0m\u001b[0;34m)\u001b[0m\u001b[0;34m\u001b[0m\u001b[0;34m\u001b[0m\u001b[0m\n\u001b[1;32m   3803\u001b[0m             \u001b[0;32mexcept\u001b[0m \u001b[0mKeyError\u001b[0m \u001b[0;32mas\u001b[0m \u001b[0merr\u001b[0m\u001b[0;34m:\u001b[0m\u001b[0;34m\u001b[0m\u001b[0;34m\u001b[0m\u001b[0m\n\u001b[0;32m-> 3804\u001b[0;31m                 \u001b[0;32mraise\u001b[0m \u001b[0mKeyError\u001b[0m\u001b[0;34m(\u001b[0m\u001b[0mkey\u001b[0m\u001b[0;34m)\u001b[0m \u001b[0;32mfrom\u001b[0m \u001b[0merr\u001b[0m\u001b[0;34m\u001b[0m\u001b[0;34m\u001b[0m\u001b[0m\n\u001b[0m\u001b[1;32m   3805\u001b[0m             \u001b[0;32mexcept\u001b[0m \u001b[0mTypeError\u001b[0m\u001b[0;34m:\u001b[0m\u001b[0;34m\u001b[0m\u001b[0;34m\u001b[0m\u001b[0m\n\u001b[1;32m   3806\u001b[0m                 \u001b[0;31m# If we have a listlike key, _check_indexing_error will raise\u001b[0m\u001b[0;34m\u001b[0m\u001b[0;34m\u001b[0m\u001b[0m\n",
            "\u001b[0;31mKeyError\u001b[0m: 'dsi_dg'"
          ]
        },
        {
          "output_type": "display_data",
          "data": {
            "text/plain": [
              "<Figure size 640x480 with 2 Axes>"
            ],
            "image/png": "[encoded data removed]"
          },
          "metadata": {}
        }
      ]
    },
    {
      "cell_type": "markdown",
      "source": [
        "><b>Task</b>: Determine whether these two samples of DSI values are statistically different! Write code that first checks whether or not the distributions are skewed, and then runs the appropriate statistics (hint: use the two variables that *do not* contain NaN values)."
      ],
      "metadata": {
        "id": "dIzqV4H0GWR6"
      }
    },
    {
      "cell_type": "code",
      "source": [
        "# Your code here"
      ],
      "metadata": {
        "id": "THfRn4hOG2R1"
      },
      "execution_count": null,
      "outputs": []
    }
  ]
}