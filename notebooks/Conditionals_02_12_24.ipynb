{
  "nbformat": 4,
  "nbformat_minor": 0,
  "metadata": {
    "colab": {
      "provenance": [],
      "include_colab_link": true
    },
    "kernelspec": {
      "name": "python3",
      "display_name": "Python 3"
    },
    "language_info": {
      "name": "python"
    }
  },
  "cells": [
    {
      "cell_type": "markdown",
      "metadata": {
        "id": "view-in-github",
        "colab_type": "text"
      },
      "source": [
        "<a href=\"https://colab.research.google.com/github/HamacherA/HamacherData/blob/main/notebooks/Conditionals_02_12_24.ipynb\" target=\"_parent\"><img src=\"https://colab.research.google.com/assets/colab-badge.svg\" alt=\"Open In Colab\"/></a>"
      ]
    },
    {
      "cell_type": "markdown",
      "source": [
        "# Programming Fundamentals III\n",
        "\n",
        "### Booleans and Conditionals\n",
        "\n",
        "In this notebook, we'll encounter another type of variable, a **Boolean**. We'll talk about the ways that we can use conditionals, and begin writing conditional statements."
      ],
      "metadata": {
        "id": "2SHTWZDDj30a"
      }
    },
    {
      "cell_type": "markdown",
      "source": [
        "## At the end of this notebook, you'll be able to:\n",
        "\n",
        "* Write Boolean logic statements\n",
        "* Recognize different types of operators (conditional, identity, and membership)\n",
        "* Test conditional statements in Python\n"
      ],
      "metadata": {
        "id": "M0E1de-8j_hR"
      }
    },
    {
      "cell_type": "markdown",
      "source": [
        "## Booleans\n",
        "\n",
        "**Boolean operators** use Boolean logic, and include:\n",
        "- `and` : True if both are true\n",
        "- `or` : True if at least one is true\n",
        "- `and not` : True only if false"
      ],
      "metadata": {
        "id": "JWsBVvg3kKF9"
      }
    },
    {
      "cell_type": "code",
      "source": [
        "# Try different Boolean operators\n",
        "\n",
        "bool_1 = True\n",
        "bool_2 = False\n",
        "\n",
        "bool_1 or bool_2"
      ],
      "metadata": {
        "id": "GZYSgJ3Vkj90",
        "outputId": "84273741-3053-4b5a-b56d-d6dca72d2ed4",
        "colab": {
          "base_uri": "https://localhost:8080/"
        }
      },
      "execution_count": 4,
      "outputs": [
        {
          "output_type": "execute_result",
          "data": {
            "text/plain": [
              "True"
            ]
          },
          "metadata": {},
          "execution_count": 4
        }
      ]
    },
    {
      "cell_type": "markdown",
      "source": [
        "### Conditional operators\n",
        "\n",
        "Condition operators can be used to test the relationship between two objects. These operators return Booleans.\n",
        "\n",
        "| Symbol |    Operation   | Usage | Outcome |\n",
        "|:------:|:--------------:|:-----:|:-------:|\n",
        "|    ==   |  is equal to  |`10==5*2`| True |\n",
        "|    !=   | is not equal to | `10!=5*2` | False |\n",
        "|    >  | Greater than |  `10 > 2` | True |\n",
        "|    <   |    Less than    |  `10 < 2` | False |\n",
        "| >= | Greater than _or_ equal to | `10 >= 10` | True |\n",
        "| <= | Less than _or_ equal to | `10 >= 10` | True |"
      ],
      "metadata": {
        "id": "sV75PK5mlDpj"
      }
    },
    {
      "cell_type": "markdown",
      "source": [
        "><b>Task:</b> Test each of these conditional operations, saving their output to a variable. Then, check the type of these variables. Use <code>and</code>, <code>or</code>, & <code>not</code> to see how these variables relate."
      ],
      "metadata": {
        "id": "MGMf1asRleVJ"
      }
    },
    {
      "cell_type": "code",
      "source": [
        "# Use different conditional operations\n",
        "\n",
        "10 <= 9*2"
      ],
      "metadata": {
        "id": "q9flWehsmAvq",
        "outputId": "11f0393a-ce9c-4db5-dec0-e7119da68d6c",
        "colab": {
          "base_uri": "https://localhost:8080/"
        }
      },
      "execution_count": 11,
      "outputs": [
        {
          "output_type": "execute_result",
          "data": {
            "text/plain": [
              "True"
            ]
          },
          "metadata": {},
          "execution_count": 11
        }
      ]
    },
    {
      "cell_type": "markdown",
      "source": [
        "### Identity Operators\n",
        "\n",
        "Identity operators are used to check if two values (or variables) are located on the same part of the memory.\n",
        "\n",
        "- `is` : True if both refer to the same object\n",
        "- `is not` : True if they do not refer to the same object"
      ],
      "metadata": {
        "id": "DHbSHRsYsPfE"
      }
    },
    {
      "cell_type": "code",
      "source": [
        "a = 927\n",
        "b = a\n",
        "c = 927\n",
        "print(a is c)\n",
        "\n",
        "# Try to find out whether a and c are the same object. What's your prediction?\n",
        "\n"
      ],
      "metadata": {
        "id": "_Yj_NO0mschr",
        "outputId": "f741aab8-c21c-4eef-d2cc-a3e6fcb2dd11",
        "colab": {
          "base_uri": "https://localhost:8080/"
        }
      },
      "execution_count": 13,
      "outputs": [
        {
          "output_type": "stream",
          "name": "stdout",
          "text": [
            "False\n"
          ]
        }
      ]
    },
    {
      "cell_type": "markdown",
      "source": [
        "><b>Task:</b> Try some code to figure out whether `a` is *equal to* `b`, and whether `a` is *equal to* `c`. What's your prediction?"
      ],
      "metadata": {
        "id": "pwguM1ias1Ck"
      }
    },
    {
      "cell_type": "code",
      "source": [
        "# Your code here\n",
        "print(a == b)\n",
        "a == c"
      ],
      "metadata": {
        "id": "w1tDOmEZtJWZ",
        "outputId": "6d627edf-5ec3-466f-a9cd-961004889fa9",
        "colab": {
          "base_uri": "https://localhost:8080/"
        }
      },
      "execution_count": 14,
      "outputs": [
        {
          "output_type": "stream",
          "name": "stdout",
          "text": [
            "True\n"
          ]
        },
        {
          "output_type": "execute_result",
          "data": {
            "text/plain": [
              "True"
            ]
          },
          "metadata": {},
          "execution_count": 14
        }
      ]
    },
    {
      "cell_type": "markdown",
      "source": [
        "### Chaining Operators\n",
        "\n",
        "Operators and variables can also be chained together into arbitrarily complex expressions."
      ],
      "metadata": {
        "id": "2AIaMZoItKaE"
      }
    },
    {
      "cell_type": "code",
      "source": [
        "# Note that you can use parentheses to chunk sections\n",
        "(13 / 2 >= 6) or ('NEUR' + '265' == 'NEUR265')"
      ],
      "metadata": {
        "id": "DghB6zU2uFol",
        "outputId": "143adaab-1d6b-468e-a2fd-fd3c07734b2f",
        "colab": {
          "base_uri": "https://localhost:8080/"
        }
      },
      "execution_count": 15,
      "outputs": [
        {
          "output_type": "execute_result",
          "data": {
            "text/plain": [
              "True"
            ]
          },
          "metadata": {},
          "execution_count": 15
        }
      ]
    },
    {
      "cell_type": "markdown",
      "source": [
        "><b>Task:</b> Create a code cell below, and make a statement that returns `False` when the `and` operator is used, but returns `True` when the `or` operator is used."
      ],
      "metadata": {
        "id": "4AQ7r-vTuXPo"
      }
    },
    {
      "cell_type": "code",
      "source": [
        "(1 == 2) and (1 == 1)"
      ],
      "metadata": {
        "id": "iO-LnMsgvIOc",
        "outputId": "22e08c68-10aa-45db-a85c-dc1fc3da458f",
        "colab": {
          "base_uri": "https://localhost:8080/"
        }
      },
      "execution_count": 19,
      "outputs": [
        {
          "output_type": "execute_result",
          "data": {
            "text/plain": [
              "False"
            ]
          },
          "metadata": {},
          "execution_count": 19
        }
      ]
    },
    {
      "cell_type": "markdown",
      "source": [
        "## Conditionals\n",
        "\n",
        "**Conditionals** are statements that check for a condition, using the `if` statement, and then only execute a set of code if the condition evaluates as `True`.\n",
        "\n",
        "- `if`\n",
        "- `elif` (else if): After an if, you can use elif statements to check additional conditions.\n",
        "- `else`: After an if, you can use an else that will run if the conditional(s) above have not run."
      ],
      "metadata": {
        "id": "b3F2OubqD0aH"
      }
    },
    {
      "cell_type": "markdown",
      "source": [
        "### If/elif/else syntax\n",
        "\n",
        "- Indentation matters! Your statements in the `if` block need to be indented by a tab or four spaces.\n",
        "- You need a colon after `if`, `elif`, and `else`"
      ],
      "metadata": {
        "id": "RxgB6HNaEDHb"
      }
    },
    {
      "cell_type": "code",
      "source": [
        "a = 138\n",
        "\n",
        "if a >= 140:\n",
        "  print('a is greater than or equal to 140')\n",
        "else:\n",
        "  print('a is less than or equal to 140')"
      ],
      "metadata": {
        "id": "he9ip4zrEMbL",
        "outputId": "e3e72687-9870-43f4-dc92-eeaf4a8fb4d9",
        "colab": {
          "base_uri": "https://localhost:8080/"
        }
      },
      "execution_count": 20,
      "outputs": [
        {
          "output_type": "stream",
          "name": "stdout",
          "text": [
            "a is less than or equal to 140\n"
          ]
        }
      ]
    },
    {
      "cell_type": "markdown",
      "source": [
        "><b>Task:</b> Create a code cell below that does the following:\n",
        "- Defines a variable `b` that is equal to 150\n",
        "- Prints \"Way to go!\" if `b` is greater than 160\n",
        "- Prints \"Woohoo!\" if `b` is less than 160 **and** greater than 140\n",
        "- Prints \"Uh oh\" if `b` does not satisfy either of these conditions.\n",
        "\n",
        "*Hint*: Use `if`, `elif`, and `else`"
      ],
      "metadata": {
        "id": "DIRAu4bnEjni"
      }
    },
    {
      "cell_type": "code",
      "source": [
        "#Don't let hallock see that I defined this as a loop already and made it a function\n",
        "def numbers(b):\n",
        "  if b > 160:\n",
        "    print('Way to go!')\n",
        "  elif (b < 160) and (b > 140):\n",
        "    print('Woohoo!')\n",
        "  else:\n",
        "    print('Ruh Roh')\n",
        "numbers(150)\n",
        "numbers(170)\n",
        "numbers(100)"
      ],
      "metadata": {
        "id": "gseyj9ldFg6f",
        "outputId": "aca8e8e8-de0e-4730-e13e-68b221f29cc5",
        "colab": {
          "base_uri": "https://localhost:8080/"
        }
      },
      "execution_count": 42,
      "outputs": [
        {
          "output_type": "stream",
          "name": "stdout",
          "text": [
            "Woohoo!\n",
            "Way to go!\n",
            "Ruh Roh\n"
          ]
        }
      ]
    },
    {
      "cell_type": "markdown",
      "source": [
        "### Properties of Conditionals\n",
        "\n",
        "- Conditionals can take any expression that can be evaluated as `True` or `False`.\n",
        "- The order of conditional blocks is always `if` then `elif`(s) then `else`.\n",
        "- If the `elif` is at the end, it will never be tested, as the else will have already returned a value once reached (and Python will throw an error).\n",
        "- An `else` statement is not required, but if both the `if` and the `elif` condtions are not met (both evaluate as `False`), then nothing is returned.\n",
        "- **At most one component (`if` / `elif` / `else`) of a conditional will run**"
      ],
      "metadata": {
        "id": "PDxcqQP6Fmfe"
      }
    },
    {
      "cell_type": "markdown",
      "source": [
        "## Conditionals With Value Comparisons\n",
        "\n",
        "Any expression that can be evaluated as a boolean, such as value comparisons, can be used with conditionals."
      ],
      "metadata": {
        "id": "anvC1QcZGVCo"
      }
    },
    {
      "cell_type": "code",
      "source": [
        "language = \"MATLAB\"\n",
        "\n",
        "if language == \"Python\":\n",
        "    print(\"Yay!\")\n",
        "elif language == \"MATLAB\" or language == \"R\":\n",
        "    print(\"Oh no.\")\n",
        "else:\n",
        "    print(\"Get yourself a programming language!\")"
      ],
      "metadata": {
        "id": "sPFxQf1eGadf",
        "outputId": "08632d0f-cff7-4227-fbee-16437a5c6d7e",
        "colab": {
          "base_uri": "https://localhost:8080/"
        }
      },
      "execution_count": 29,
      "outputs": [
        {
          "output_type": "stream",
          "name": "stdout",
          "text": [
            "Oh no.\n"
          ]
        }
      ]
    },
    {
      "cell_type": "markdown",
      "source": [
        "### Counters\n",
        "\n",
        "Sometimes it's useful to set up a <b>counter</b> so that you know how many times a piece of code has run."
      ],
      "metadata": {
        "id": "kM_Uzp95GrtX"
      }
    },
    {
      "cell_type": "code",
      "source": [
        "# Initialize a counter variable\n",
        "counter = 0\n",
        "print(counter)\n",
        "\n",
        "counter = counter + 1\n",
        "print(counter)"
      ],
      "metadata": {
        "id": "0LXyDHnrGyeT",
        "outputId": "c223a28d-fe64-499a-e39c-9fd1400fd632",
        "colab": {
          "base_uri": "https://localhost:8080/"
        }
      },
      "execution_count": 31,
      "outputs": [
        {
          "output_type": "stream",
          "name": "stdout",
          "text": [
            "0\n",
            "1\n"
          ]
        }
      ]
    },
    {
      "cell_type": "markdown",
      "source": [
        "**Question**: What will be the value of `counter` after this code is run?"
      ],
      "metadata": {
        "id": "TYZgo0poHBmg"
      }
    },
    {
      "cell_type": "code",
      "source": [
        "things_that_are_good = ['python', 'data', 'science', 'tacos']\n",
        "\n",
        "counter = 0\n",
        "\n",
        "if 'python' in things_that_are_good:\n",
        "    print('python is good')\n",
        "    counter = counter + 1\n",
        "\n",
        "if len(things_that_are_good) == 4:\n",
        "    print('length is 4')\n",
        "    counter = counter + 1\n",
        "\n",
        "if things_that_are_good[2] == 'data':\n",
        "    print('data was index 2')\n",
        "    counter = counter + 1\n",
        "\n",
        "print(counter)"
      ],
      "metadata": {
        "id": "rfTVDk_zHF-8",
        "outputId": "f18d03fb-997a-4d0d-c2d4-a1031765e67f",
        "colab": {
          "base_uri": "https://localhost:8080/"
        }
      },
      "execution_count": 32,
      "outputs": [
        {
          "output_type": "stream",
          "name": "stdout",
          "text": [
            "python is good\n",
            "length is 4\n",
            "2\n"
          ]
        }
      ]
    },
    {
      "cell_type": "markdown",
      "source": [
        "></b>Task: Guessing Game Challenge</b>\n",
        "- Ask the user: “What’s my favorite food?”\n",
        "- <i>If</i> it’s the same as yours, respond, “Yep, delicious!”\n",
        "- <i>If not</i>, say “Nope, you’re wrong.”\n",
        "<br>\n",
        "Regardless, tell the user “Thanks for playing.”\n",
        "</br>\n"
      ],
      "metadata": {
        "id": "0rGjPvtcHNhN"
      }
    },
    {
      "cell_type": "code",
      "source": [
        "response = input('What\\'s my favorite food?')\n",
        "fave_food = 'Ribs'\n",
        "if (response == fave_food):\n",
        "  print('Yep, Delicious!')\n",
        "else:\n",
        "  print('Nope, you\\'re wrong')\n",
        "print(\"Thank's for Playing\")"
      ],
      "metadata": {
        "id": "84JeC2BTH8rC",
        "outputId": "f280dd65-703b-4146-b233-45c650429a97",
        "colab": {
          "base_uri": "https://localhost:8080/"
        }
      },
      "execution_count": 41,
      "outputs": [
        {
          "output_type": "stream",
          "name": "stdout",
          "text": [
            "What's my favorite food?Ribs\n",
            "Yep, Delicious!\n",
            "Thank's for Playing\n"
          ]
        }
      ]
    },
    {
      "cell_type": "markdown",
      "source": [
        "### How Can We Apply Conditionals to our Data?\n",
        "\n",
        "Sometimes it's useful to look at data that meet certain conditions."
      ],
      "metadata": {
        "id": "y8qXlTomI4fU"
      }
    },
    {
      "cell_type": "code",
      "source": [
        "# Upload the patch_seq.csv file located on our class GitHub repo as a Pandas DataFrame\n",
        "\n",
        "# First, import pandas as pd\n",
        "import pandas as pd\n",
        "\n",
        "# Next, import the url\n",
        "\n",
        "url = 'https://raw.githubusercontent.com/hallockh/neur_265/main/data/patch_seq.csv'\n",
        "\n",
        "cell_types = pd.read_csv(url)\n",
        "\n"
      ],
      "metadata": {
        "id": "AwQ5NS2kM8eh"
      },
      "execution_count": 43,
      "outputs": []
    },
    {
      "cell_type": "markdown",
      "source": [
        "Recall that this dataset consists of two different \"types\" of cells:\n",
        "- Cells that express the marker gene *Sst*\n",
        "- Cells that express the marker gene *Pvalb*\n",
        "\n",
        "Both of these marker genes are found in inhibitory neurons. *Pvalb*-containing neurons tend to be faster-spiking (have lower inter-spike intervals). For a reminder of what inter-spike interval distributions typically look like, see below:\n",
        "\n",
        "<img src = 'https://drive.google.com/uc?id=1vAoypW_RQ-BzwUgsZH8nHKPds9AoKm9X'>"
      ],
      "metadata": {
        "id": "GaxerL9ANTQx"
      }
    },
    {
      "cell_type": "markdown",
      "source": [
        "What if we *only* want to plot the histogram of inter-spike intervals for a given marker gene if the mean of the inter-spike interval distribution is *greater than* some value?"
      ],
      "metadata": {
        "id": "hrl5f-HJOIpf"
      }
    },
    {
      "cell_type": "code",
      "source": [
        "# Find the mean of the inter-spike interval distribution for Pvalb neurons\n",
        "\n",
        "means = cell_types.groupby('Marker').mean()\n",
        "pvalb_mean = means.loc['Pvalb']\n",
        "\n",
        "print(means)\n",
        "print(pvalb_mean)"
      ],
      "metadata": {
        "id": "abXUwN6VOnzO",
        "outputId": "a7d71658-4429-4377-c998-7981df867a1d",
        "colab": {
          "base_uri": "https://localhost:8080/"
        }
      },
      "execution_count": 46,
      "outputs": [
        {
          "output_type": "stream",
          "name": "stdout",
          "text": [
            "              ISI\n",
            "Marker           \n",
            "Pvalb   18.747074\n",
            "Sst     61.767848\n",
            "ISI    18.747074\n",
            "Name: Pvalb, dtype: float64\n"
          ]
        }
      ]
    },
    {
      "cell_type": "markdown",
      "source": [
        "If the mean inter-spike interval of the *Pvalb*-containing subset of neurons is less than 20 milliseconds, make a histogram"
      ],
      "metadata": {
        "id": "qs5gIpZvR4PY"
      }
    },
    {
      "cell_type": "code",
      "source": [
        "if pvalb_mean.all() > 20:\n",
        "  pvalb_index = cell_types.index[cell_types['Marker'] == 'Pvalb']\n",
        "  pvalb_values = cell_types.loc[pvalb_index]\n",
        "  pvalb_values.hist()\n"
      ],
      "metadata": {
        "id": "XLn41CGOSI0x"
      },
      "execution_count": 54,
      "outputs": []
    },
    {
      "cell_type": "markdown",
      "source": [
        "><b>Task:</b> Make a conditional statement that creates a *green* histogram of ISI values for *Sst*-containing neurons if the mean of the *Sst*-containing ISI distribution is greater than 60, and a *red* histogram if the mean of the distribution is less than 60 (*Hint*: use `color = \"\"` as input to the `df.hist()` function)"
      ],
      "metadata": {
        "id": "l65E2pADcFGX"
      }
    },
    {
      "cell_type": "code",
      "source": [
        "sst_mean = means.loc['Sst']\n",
        "\n",
        "sst_index = cell_types.index[cell_types['Marker'] == 'Sst']\n",
        "sst_values = cell_types.loc[sst_index]\n",
        "if sst_mean.iloc[0] > 60:\n",
        "  sst_values.hist(color = \"green\")\n",
        "elif sst_mean.iloc[0] < 60:\n",
        "  sst_values.hist(color = \"red\")\n",
        "\n",
        "\n"
      ],
      "metadata": {
        "id": "ROEoCH-fd7tw",
        "outputId": "6f364b5e-e26a-405a-af57-b310fca82668",
        "colab": {
          "base_uri": "https://localhost:8080/",
          "height": 452
        }
      },
      "execution_count": 65,
      "outputs": [
        {
          "output_type": "display_data",
          "data": {
            "text/plain": [
              "<Figure size 640x480 with 1 Axes>"
            ],
            "image/png": "[encoded data removed]"
          },
          "metadata": {}
        }
      ]
    },
    {
      "cell_type": "markdown",
      "source": [
        "><b>Task:</b> Create a conditional statement that makes a *green* histogram of ISI values for *Sst*-containing neurons if the standard deviation of the *Sst*-containing distribution is greater than 30, and a *red* histogram if the standard deviation of the distribution is less than 30 (*Hint*: the function is `df.std()`)."
      ],
      "metadata": {
        "id": "t8w3654RfNrV"
      }
    },
    {
      "cell_type": "code",
      "source": [
        "std = cell_types.groupby('Marker').std()\n",
        "sst_std = std.loc['Sst']\n",
        "sst_index = cell_types.index[cell_types['Marker'] == 'Sst']\n",
        "sst_values = cell_types.loc[sst_index]\n",
        "if sst_std.iloc[0] > 30:\n",
        "  sst_values.hist(color = \"green\")\n",
        "elif sst_std.iloc[0] < 30:\n",
        "  sst_values.hist(color = \"red\")\n",
        "\n"
      ],
      "metadata": {
        "id": "SRg6zAeAgETK",
        "outputId": "84b8b1e1-a446-41ad-a46f-4aa2d1763a15",
        "colab": {
          "base_uri": "https://localhost:8080/",
          "height": 452
        }
      },
      "execution_count": 66,
      "outputs": [
        {
          "output_type": "display_data",
          "data": {
            "text/plain": [
              "<Figure size 640x480 with 1 Axes>"
            ],
            "image/png": "[encoded data removed]"
          },
          "metadata": {}
        }
      ]
    }
  ]
}