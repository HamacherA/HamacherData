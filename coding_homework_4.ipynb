{
  "nbformat": 4,
  "nbformat_minor": 0,
  "metadata": {
    "colab": {
      "provenance": [],
      "include_colab_link": true
    },
    "kernelspec": {
      "name": "python3",
      "display_name": "Python 3"
    },
    "language_info": {
      "name": "python"
    }
  },
  "cells": [
    {
      "cell_type": "markdown",
      "metadata": {
        "id": "view-in-github",
        "colab_type": "text"
      },
      "source": [
        "<a href=\"https://colab.research.google.com/github/HamacherA/HamacherData/blob/main/coding_homework_4.ipynb\" target=\"_parent\"><img src=\"https://colab.research.google.com/assets/colab-badge.svg\" alt=\"Open In Colab\"/></a>"
      ]
    },
    {
      "cell_type": "markdown",
      "source": [
        "# Coding Homework #4\n",
        "\n",
        "**Instructions**\n",
        "\n",
        "1. Make a *Markdown Cell* that contains the following information:\n",
        "- Your name (small header)\n",
        "- The name of this class (italicized)\n",
        "- The date (bolded)\n",
        "\n",
        "2. Create a *Code Cell* that imports relevant modules - specifically, <code>pandas as pd</code>, <code>matplotlib.pyplot as plt</code>, and <code>scipy.stats as stats</code>.\n",
        "\n",
        "3. For this assignment, you'll be using the <code>patch_seq_expanded.csv</code> file located in our class GitHub repo. Create a *Code Cell* that loads this file in as a <code>Pandas dataFrame</code> called <code>patch_seq</code>.\n",
        "\n",
        "4. In a new *Code Cell*, using the <code>df.plot</code> method from the <code>pandas</code> module, make a bar graph that displays the value counts (how many observations) from the \"Marker\" column of your <code>patch_seq</code> variable. Label your x and y-axes.\n",
        "\n",
        "5. In a new *Code Cell*, repeat step 4, but make a pie chart instead of a bar graph.\n",
        "\n",
        "6. In a new *Code Cell*, use a <code>for</code> loop to make a scatter plot of the \"ISI\" (on the x-axis) and \"Fast_Trough\" (on the y-axis) values in your <code>patch_seq</code> dataframe. Your loop should make data points from \"Sst\" neurons <font color = 'red'>red</font>, and data points from \"Pvalb\" neurons <font color = 'blue'>blue</font>.\n",
        "\n",
        "7. In a new *Code Cell*, create a <code>function</code> called <code>patchScatter()</code> that will output the scatter plot created in step 6 when you call it. Don't forget to tell it to show your scatter plot!\n",
        "\n",
        "8. In a new *Code Cell*, return the mean, standard deviation, and range of the \"Fast_Trough\" column for \"Sst\" neurons and \"Pvalb\" neurons. You can do this with the <code>pandas</code> method <code>describe</code>, like so:\n",
        "\n",
        "<code>patch_seq.groupby('Marker')['Fast_Trough'].describe()</code>\n",
        "\n",
        "9. In a new *Markdown Cell*, describe the difference in means between \"Sst\" neurons and \"Pvalb\" neurons. Which group has a more negative undershoot following an action potential?\n",
        "\n",
        "10. In a new *Code Cell*, return the skewness of the \"Fast_Trough\" column for \"Sst\" neurons and \"Pvalb\" neurons. You can do this with the <code>pandas</code> method <code>skew</code> (follow the syntax in step 8 to apply this method to <code>patch_seq</code>).\n",
        "\n",
        "11. In a new *Markdown Cell*, interpret the results of your skewness test. Generally, values >0.5, or <-0.5, indicate a skewed distribution, while values between -0.5 and 0.5 indicate a normal distribution.\n",
        "\n",
        "12. In a new *Code Cell*, repeat step 10 for the \"ISI\" column of <code>patch_seq</code>.\n",
        "\n",
        "13. In a new *Markdown Cell*, repeat step 11 for the \"ISI\" column of <code>patch_seq</code>.\n",
        "\n",
        "14. Finally, in a new *Code Cell*, let's perform a t-test to see if our \"Fast_Trough\" and \"ISI\" values differ between \"Sst\" and \"Pvalb\" neurons. To do this for our \"Fast_Trough\" values, we should first isolate each group and make each of them into a separate variable. An example of how to do this for \"Sst\" neurons is below:\n",
        "\n",
        "<code>sst_neurons = patch_seq[patch_seq['Marker']=='Sst']</code>\n",
        "\n",
        "Use the same code to create another variable called <code>pvalb_neurons</code>. Once you've made your two variables, perform an independent-samples t-test to compare \"Fast_Trough\" values between the two groups:\n",
        "\n",
        "<code>stats.ttest_ind(sst_neurons['Fast_Trough'], pvalb_neurons['Fast_Trough'])</code>.\n",
        "\n",
        "15. In a *Markdown Cell*, describe the results of your t-test. Does the undershoot voltage significantly differ betwen the two groups?\n",
        "\n",
        "16. In a new *Code Cell*, repeat step 14 for \"ISI\". You won't need to create new <code>sst_neurons</code> and <code>pvalb_neurons</code> variables - you'll just need to run a new t-test.\n",
        "\n",
        "17. In a new *Markdown Cell*, repeat step 15 for the results of your new t-test.\n",
        "\n",
        "18. Make sure to put a <code>#</code> in each *Code Cell* to describe what it does.\n",
        "\n",
        "19. Save a copy of this notebook to your GitHub repo with the title <code>coding_homework_4.ipynb</code>.\n",
        "\n",
        "\n"
      ],
      "metadata": {
        "id": "t5mb_Iv37HhC"
      }
    },
    {
      "cell_type": "markdown",
      "source": [
        "### Andrew Hamacher\n",
        "*neural data analysis*\n",
        "\n",
        "**3/4/2024**\n"
      ],
      "metadata": {
        "id": "HvlglYLKIML-"
      }
    },
    {
      "cell_type": "code",
      "source": [
        "import pandas as pd\n",
        "import numpy as np #I didn't end up needing this one but I imported it just in case.\n",
        "import matplotlib.pyplot as plt\n",
        "import scipy.stats as stats\n",
        "#importing packages"
      ],
      "metadata": {
        "id": "NmoAC2bRIVs7"
      },
      "execution_count": 2,
      "outputs": []
    },
    {
      "cell_type": "code",
      "source": [
        "patch_seq = pd.read_csv('https://raw.githubusercontent.com/hallockh/neur_265/main/data/patch_seq_expanded.csv')\n",
        "patch_seq\n",
        "#importing the csv file as a dataframe"
      ],
      "metadata": {
        "id": "WNU2iVuBIqZL",
        "outputId": "b134aaad-bf49-4494-b0e6-fb97481f1b44",
        "colab": {
          "base_uri": "https://localhost:8080/",
          "height": 423
        }
      },
      "execution_count": 3,
      "outputs": [
        {
          "output_type": "execute_result",
          "data": {
            "text/plain": [
              "           ISI  Fast_Trough Marker\n",
              "0    77.337143   -49.899998    Sst\n",
              "1    17.177895   -44.462498    Sst\n",
              "2    48.294737   -47.350002    Sst\n",
              "3     8.980000   -45.656254    Sst\n",
              "4    30.315385   -50.737499    Sst\n",
              "..         ...          ...    ...\n",
              "360  11.052333   -54.743752  Pvalb\n",
              "361   8.860360   -64.875008  Pvalb\n",
              "362   9.192897   -51.312504  Pvalb\n",
              "363  10.544731   -52.281254  Pvalb\n",
              "364  16.396364   -61.437504  Pvalb\n",
              "\n",
              "[365 rows x 3 columns]"
            ],
            "text/html": [
              "\n",
              "  <div id=\"df-7951e24c-07de-4ac0-9999-e4eca97591db\" class=\"colab-df-container\">\n",
              "    <div>\n",
              "<style scoped>\n",
              "    .dataframe tbody tr th:only-of-type {\n",
              "        vertical-align: middle;\n",
              "    }\n",
              "\n",
              "    .dataframe tbody tr th {\n",
              "        vertical-align: top;\n",
              "    }\n",
              "\n",
              "    .dataframe thead th {\n",
              "        text-align: right;\n",
              "    }\n",
              "</style>\n",
              "<table border=\"1\" class=\"dataframe\">\n",
              "  <thead>\n",
              "    <tr style=\"text-align: right;\">\n",
              "      <th></th>\n",
              "      <th>ISI</th>\n",
              "      <th>Fast_Trough</th>\n",
              "      <th>Marker</th>\n",
              "    </tr>\n",
              "  </thead>\n",
              "  <tbody>\n",
              "    <tr>\n",
              "      <th>0</th>\n",
              "      <td>77.337143</td>\n",
              "      <td>-49.899998</td>\n",
              "      <td>Sst</td>\n",
              "    </tr>\n",
              "    <tr>\n",
              "      <th>1</th>\n",
              "      <td>17.177895</td>\n",
              "      <td>-44.462498</td>\n",
              "      <td>Sst</td>\n",
              "    </tr>\n",
              "    <tr>\n",
              "      <th>2</th>\n",
              "      <td>48.294737</td>\n",
              "      <td>-47.350002</td>\n",
              "      <td>Sst</td>\n",
              "    </tr>\n",
              "    <tr>\n",
              "      <th>3</th>\n",
              "      <td>8.980000</td>\n",
              "      <td>-45.656254</td>\n",
              "      <td>Sst</td>\n",
              "    </tr>\n",
              "    <tr>\n",
              "      <th>4</th>\n",
              "      <td>30.315385</td>\n",
              "      <td>-50.737499</td>\n",
              "      <td>Sst</td>\n",
              "    </tr>\n",
              "    <tr>\n",
              "      <th>...</th>\n",
              "      <td>...</td>\n",
              "      <td>...</td>\n",
              "      <td>...</td>\n",
              "    </tr>\n",
              "    <tr>\n",
              "      <th>360</th>\n",
              "      <td>11.052333</td>\n",
              "      <td>-54.743752</td>\n",
              "      <td>Pvalb</td>\n",
              "    </tr>\n",
              "    <tr>\n",
              "      <th>361</th>\n",
              "      <td>8.860360</td>\n",
              "      <td>-64.875008</td>\n",
              "      <td>Pvalb</td>\n",
              "    </tr>\n",
              "    <tr>\n",
              "      <th>362</th>\n",
              "      <td>9.192897</td>\n",
              "      <td>-51.312504</td>\n",
              "      <td>Pvalb</td>\n",
              "    </tr>\n",
              "    <tr>\n",
              "      <th>363</th>\n",
              "      <td>10.544731</td>\n",
              "      <td>-52.281254</td>\n",
              "      <td>Pvalb</td>\n",
              "    </tr>\n",
              "    <tr>\n",
              "      <th>364</th>\n",
              "      <td>16.396364</td>\n",
              "      <td>-61.437504</td>\n",
              "      <td>Pvalb</td>\n",
              "    </tr>\n",
              "  </tbody>\n",
              "</table>\n",
              "<p>365 rows × 3 columns</p>\n",
              "</div>\n",
              "    <div class=\"colab-df-buttons\">\n",
              "\n",
              "  <div class=\"colab-df-container\">\n",
              "    <button class=\"colab-df-convert\" onclick=\"convertToInteractive('df-7951e24c-07de-4ac0-9999-e4eca97591db')\"\n",
              "            title=\"Convert this dataframe to an interactive table.\"\n",
              "            style=\"display:none;\">\n",
              "\n",
              "  <svg xmlns=\"http://www.w3.org/2000/svg\" height=\"24px\" viewBox=\"0 -960 960 960\">\n",
              "    <path d=\"M120-120v-720h720v720H120Zm60-500h600v-160H180v160Zm220 220h160v-160H400v160Zm0 220h160v-160H400v160ZM180-400h160v-160H180v160Zm440 0h160v-160H620v160ZM180-180h160v-160H180v160Zm440 0h160v-160H620v160Z\"/>\n",
              "  </svg>\n",
              "    </button>\n",
              "\n",
              "  <style>\n",
              "    .colab-df-container {\n",
              "      display:flex;\n",
              "      gap: 12px;\n",
              "    }\n",
              "\n",
              "    .colab-df-convert {\n",
              "      background-color: #E8F0FE;\n",
              "      border: none;\n",
              "      border-radius: 50%;\n",
              "      cursor: pointer;\n",
              "      display: none;\n",
              "      fill: #1967D2;\n",
              "      height: 32px;\n",
              "      padding: 0 0 0 0;\n",
              "      width: 32px;\n",
              "    }\n",
              "\n",
              "    .colab-df-convert:hover {\n",
              "      background-color: #E2EBFA;\n",
              "      box-shadow: 0px 1px 2px rgba(60, 64, 67, 0.3), 0px 1px 3px 1px rgba(60, 64, 67, 0.15);\n",
              "      fill: #174EA6;\n",
              "    }\n",
              "\n",
              "    .colab-df-buttons div {\n",
              "      margin-bottom: 4px;\n",
              "    }\n",
              "\n",
              "    [theme=dark] .colab-df-convert {\n",
              "      background-color: #3B4455;\n",
              "      fill: #D2E3FC;\n",
              "    }\n",
              "\n",
              "    [theme=dark] .colab-df-convert:hover {\n",
              "      background-color: #434B5C;\n",
              "      box-shadow: 0px 1px 3px 1px rgba(0, 0, 0, 0.15);\n",
              "      filter: drop-shadow(0px 1px 2px rgba(0, 0, 0, 0.3));\n",
              "      fill: #FFFFFF;\n",
              "    }\n",
              "  </style>\n",
              "\n",
              "    <script>\n",
              "      const buttonEl =\n",
              "        document.querySelector('#df-7951e24c-07de-4ac0-9999-e4eca97591db button.colab-df-convert');\n",
              "      buttonEl.style.display =\n",
              "        google.colab.kernel.accessAllowed ? 'block' : 'none';\n",
              "\n",
              "      async function convertToInteractive(key) {\n",
              "        const element = document.querySelector('#df-7951e24c-07de-4ac0-9999-e4eca97591db');\n",
              "        const dataTable =\n",
              "          await google.colab.kernel.invokeFunction('convertToInteractive',\n",
              "                                                    [key], {});\n",
              "        if (!dataTable) return;\n",
              "\n",
              "        const docLinkHtml = 'Like what you see? Visit the ' +\n",
              "          '<a target=\"_blank\" href=https://colab.research.google.com/notebooks/data_table.ipynb>data table notebook</a>'\n",
              "          + ' to learn more about interactive tables.';\n",
              "        element.innerHTML = '';\n",
              "        dataTable['output_type'] = 'display_data';\n",
              "        await google.colab.output.renderOutput(dataTable, element);\n",
              "        const docLink = document.createElement('div');\n",
              "        docLink.innerHTML = docLinkHtml;\n",
              "        element.appendChild(docLink);\n",
              "      }\n",
              "    </script>\n",
              "  </div>\n",
              "\n",
              "\n",
              "<div id=\"df-93adb7e3-a5d8-4403-8dfa-349cc81609d6\">\n",
              "  <button class=\"colab-df-quickchart\" onclick=\"quickchart('df-93adb7e3-a5d8-4403-8dfa-349cc81609d6')\"\n",
              "            title=\"Suggest charts\"\n",
              "            style=\"display:none;\">\n",
              "\n",
              "<svg xmlns=\"http://www.w3.org/2000/svg\" height=\"24px\"viewBox=\"0 0 24 24\"\n",
              "     width=\"24px\">\n",
              "    <g>\n",
              "        <path d=\"M19 3H5c-1.1 0-2 .9-2 2v14c0 1.1.9 2 2 2h14c1.1 0 2-.9 2-2V5c0-1.1-.9-2-2-2zM9 17H7v-7h2v7zm4 0h-2V7h2v10zm4 0h-2v-4h2v4z\"/>\n",
              "    </g>\n",
              "</svg>\n",
              "  </button>\n",
              "\n",
              "<style>\n",
              "  .colab-df-quickchart {\n",
              "      --bg-color: #E8F0FE;\n",
              "      --fill-color: #1967D2;\n",
              "      --hover-bg-color: #E2EBFA;\n",
              "      --hover-fill-color: #174EA6;\n",
              "      --disabled-fill-color: #AAA;\n",
              "      --disabled-bg-color: #DDD;\n",
              "  }\n",
              "\n",
              "  [theme=dark] .colab-df-quickchart {\n",
              "      --bg-color: #3B4455;\n",
              "      --fill-color: #D2E3FC;\n",
              "      --hover-bg-color: #434B5C;\n",
              "      --hover-fill-color: #FFFFFF;\n",
              "      --disabled-bg-color: #3B4455;\n",
              "      --disabled-fill-color: #666;\n",
              "  }\n",
              "\n",
              "  .colab-df-quickchart {\n",
              "    background-color: var(--bg-color);\n",
              "    border: none;\n",
              "    border-radius: 50%;\n",
              "    cursor: pointer;\n",
              "    display: none;\n",
              "    fill: var(--fill-color);\n",
              "    height: 32px;\n",
              "    padding: 0;\n",
              "    width: 32px;\n",
              "  }\n",
              "\n",
              "  .colab-df-quickchart:hover {\n",
              "    background-color: var(--hover-bg-color);\n",
              "    box-shadow: 0 1px 2px rgba(60, 64, 67, 0.3), 0 1px 3px 1px rgba(60, 64, 67, 0.15);\n",
              "    fill: var(--button-hover-fill-color);\n",
              "  }\n",
              "\n",
              "  .colab-df-quickchart-complete:disabled,\n",
              "  .colab-df-quickchart-complete:disabled:hover {\n",
              "    background-color: var(--disabled-bg-color);\n",
              "    fill: var(--disabled-fill-color);\n",
              "    box-shadow: none;\n",
              "  }\n",
              "\n",
              "  .colab-df-spinner {\n",
              "    border: 2px solid var(--fill-color);\n",
              "    border-color: transparent;\n",
              "    border-bottom-color: var(--fill-color);\n",
              "    animation:\n",
              "      spin 1s steps(1) infinite;\n",
              "  }\n",
              "\n",
              "  @keyframes spin {\n",
              "    0% {\n",
              "      border-color: transparent;\n",
              "      border-bottom-color: var(--fill-color);\n",
              "      border-left-color: var(--fill-color);\n",
              "    }\n",
              "    20% {\n",
              "      border-color: transparent;\n",
              "      border-left-color: var(--fill-color);\n",
              "      border-top-color: var(--fill-color);\n",
              "    }\n",
              "    30% {\n",
              "      border-color: transparent;\n",
              "      border-left-color: var(--fill-color);\n",
              "      border-top-color: var(--fill-color);\n",
              "      border-right-color: var(--fill-color);\n",
              "    }\n",
              "    40% {\n",
              "      border-color: transparent;\n",
              "      border-right-color: var(--fill-color);\n",
              "      border-top-color: var(--fill-color);\n",
              "    }\n",
              "    60% {\n",
              "      border-color: transparent;\n",
              "      border-right-color: var(--fill-color);\n",
              "    }\n",
              "    80% {\n",
              "      border-color: transparent;\n",
              "      border-right-color: var(--fill-color);\n",
              "      border-bottom-color: var(--fill-color);\n",
              "    }\n",
              "    90% {\n",
              "      border-color: transparent;\n",
              "      border-bottom-color: var(--fill-color);\n",
              "    }\n",
              "  }\n",
              "</style>\n",
              "\n",
              "  <script>\n",
              "    async function quickchart(key) {\n",
              "      const quickchartButtonEl =\n",
              "        document.querySelector('#' + key + ' button');\n",
              "      quickchartButtonEl.disabled = true;  // To prevent multiple clicks.\n",
              "      quickchartButtonEl.classList.add('colab-df-spinner');\n",
              "      try {\n",
              "        const charts = await google.colab.kernel.invokeFunction(\n",
              "            'suggestCharts', [key], {});\n",
              "      } catch (error) {\n",
              "        console.error('Error during call to suggestCharts:', error);\n",
              "      }\n",
              "      quickchartButtonEl.classList.remove('colab-df-spinner');\n",
              "      quickchartButtonEl.classList.add('colab-df-quickchart-complete');\n",
              "    }\n",
              "    (() => {\n",
              "      let quickchartButtonEl =\n",
              "        document.querySelector('#df-93adb7e3-a5d8-4403-8dfa-349cc81609d6 button');\n",
              "      quickchartButtonEl.style.display =\n",
              "        google.colab.kernel.accessAllowed ? 'block' : 'none';\n",
              "    })();\n",
              "  </script>\n",
              "</div>\n",
              "    </div>\n",
              "  </div>\n"
            ],
            "application/vnd.google.colaboratory.intrinsic+json": {
              "type": "dataframe",
              "variable_name": "patch_seq",
              "summary": "{\n  \"name\": \"patch_seq\",\n  \"rows\": 365,\n  \"fields\": [\n    {\n      \"column\": \"ISI\",\n      \"properties\": {\n        \"dtype\": \"number\",\n        \"std\": 21.792589706649288,\n        \"min\": 6.085121951,\n        \"max\": 187.9866667,\n        \"num_unique_values\": 356,\n        \"samples\": [\n          22.49069767,\n          67.255,\n          18.37372549\n        ],\n        \"semantic_type\": \"\",\n        \"description\": \"\"\n      }\n    },\n    {\n      \"column\": \"Fast_Trough\",\n      \"properties\": {\n        \"dtype\": \"number\",\n        \"std\": 5.683855450419779,\n        \"min\": -76.68750763,\n        \"max\": -30.40625191,\n        \"num_unique_values\": 341,\n        \"samples\": [\n          -53.31250381,\n          -53.31874847,\n          -56.59375381\n        ],\n        \"semantic_type\": \"\",\n        \"description\": \"\"\n      }\n    },\n    {\n      \"column\": \"Marker\",\n      \"properties\": {\n        \"dtype\": \"category\",\n        \"num_unique_values\": 2,\n        \"samples\": [\n          \"Pvalb\",\n          \"Sst\"\n        ],\n        \"semantic_type\": \"\",\n        \"description\": \"\"\n      }\n    }\n  ]\n}"
            }
          },
          "metadata": {},
          "execution_count": 3
        }
      ]
    },
    {
      "source": [
        "#Creating a Histogram of the value counts for sst and pvalb neurons\n",
        "counts = patch_seq['Marker'].value_counts()\n",
        "counts.plot(kind='bar')\n",
        "plt.xlabel('Neuron Type')\n",
        "plt.ylabel('Counts')"
      ],
      "cell_type": "code",
      "metadata": {
        "id": "1vcOsKSRKT1I",
        "outputId": "2be5ee01-fc4e-42fe-edd9-57991613f3f1",
        "colab": {
          "base_uri": "https://localhost:8080/",
          "height": 491
        }
      },
      "execution_count": 4,
      "outputs": [
        {
          "output_type": "execute_result",
          "data": {
            "text/plain": [
              "Text(0, 0.5, 'Counts')"
            ]
          },
          "metadata": {},
          "execution_count": 4
        },
        {
          "output_type": "display_data",
          "data": {
            "text/plain": [
              "<Figure size 640x480 with 1 Axes>"
            ],
            "image/png": "[encoded data removed]"
          },
          "metadata": {}
        }
      ]
    },
    {
      "cell_type": "code",
      "source": [
        "#Recreating the graph but as a pie chart\n",
        "counts.plot(kind = 'pie')"
      ],
      "metadata": {
        "id": "04oIJtUOKCeR",
        "outputId": "9ebdb4b5-f1a7-400b-bf21-7df2e027f609",
        "colab": {
          "base_uri": "https://localhost:8080/",
          "height": 424
        }
      },
      "execution_count": 5,
      "outputs": [
        {
          "output_type": "execute_result",
          "data": {
            "text/plain": [
              "<Axes: ylabel='Marker'>"
            ]
          },
          "metadata": {},
          "execution_count": 5
        },
        {
          "output_type": "display_data",
          "data": {
            "text/plain": [
              "<Figure size 640x480 with 1 Axes>"
            ],
            "image/png": "[encoded data removed]"
          },
          "metadata": {}
        }
      ]
    },
    {
      "cell_type": "code",
      "source": [
        "for i in range(len(patch_seq)): #creating a loop that checks the marker type of each row, and changes the color of the dot.\n",
        "\n",
        "  if patch_seq.loc[i, 'Marker'] == 'Sst':\n",
        "    color = 'red'\n",
        "\n",
        "  elif patch_seq.loc[i, 'Marker'] == 'Pvalb':\n",
        "    color = 'blue'\n",
        "\n",
        "  plt.scatter(patch_seq.loc[i,'ISI'],patch_seq.loc[i, 'Fast_Trough'], color = color) #creating the scatter plot with ISI on x axis and fast trough on Y\n",
        "  plt.xlabel('ISI')\n",
        "  plt.ylabel('Fast Trough')\n",
        "\n"
      ],
      "metadata": {
        "id": "ZDFEHmsOV-uw",
        "outputId": "b2b5d38c-d1c2-4433-9128-5e4156a4ad97",
        "colab": {
          "base_uri": "https://localhost:8080/",
          "height": 449
        }
      },
      "execution_count": 20,
      "outputs": [
        {
          "output_type": "display_data",
          "data": {
            "text/plain": [
              "<Figure size 640x480 with 1 Axes>"
            ],
            "image/png": "[encoded data removed]"
          },
          "metadata": {}
        }
      ]
    },
    {
      "cell_type": "code",
      "source": [
        "def patchScatter(): #Defining a function that creates the scatter plot from last code cell\n",
        "    for i in range(len(patch_seq)):\n",
        "\n",
        "      if patch_seq.loc[i, 'Marker'] == 'Sst':\n",
        "       color = 'red'\n",
        "\n",
        "      elif patch_seq.loc[i, 'Marker'] == 'Pvalb':\n",
        "        color = 'blue'\n",
        "\n",
        "      plt.scatter(patch_seq.loc[i,'ISI'],patch_seq.loc[i, 'Fast_Trough'], color = color)\n",
        "      plt.xlabel('ISI')\n",
        "      plt.ylabel('Fast Trough')\n",
        "      plt.show\n"
      ],
      "metadata": {
        "id": "Bhrh_LbfXQ5U"
      },
      "execution_count": 23,
      "outputs": []
    },
    {
      "cell_type": "code",
      "source": [
        "patch_seq.groupby('Marker')['Fast_Trough'].describe()"
      ],
      "metadata": {
        "colab": {
          "base_uri": "https://localhost:8080/",
          "height": 143
        },
        "id": "jVOAW-h9XckC",
        "outputId": "f14fe911-5944-4a54-b1fa-12cd6fb62dca"
      },
      "execution_count": 7,
      "outputs": [
        {
          "output_type": "execute_result",
          "data": {
            "text/plain": [
              "        count       mean       std        min        25%        50%  \\\n",
              "Marker                                                                \n",
              "Pvalb   256.0 -54.548074  5.870670 -76.687508 -57.914063 -54.490629   \n",
              "Sst     109.0 -52.514968  4.958103 -64.375008 -55.931252 -52.568752   \n",
              "\n",
              "              75%        max  \n",
              "Marker                        \n",
              "Pvalb  -51.364065 -30.406252  \n",
              "Sst    -48.500000 -40.781254  "
            ],
            "text/html": [
              "\n",
              "  <div id=\"df-2cdb72e5-12a6-4ecc-9579-71bf7d21b6d3\" class=\"colab-df-container\">\n",
              "    <div>\n",
              "<style scoped>\n",
              "    .dataframe tbody tr th:only-of-type {\n",
              "        vertical-align: middle;\n",
              "    }\n",
              "\n",
              "    .dataframe tbody tr th {\n",
              "        vertical-align: top;\n",
              "    }\n",
              "\n",
              "    .dataframe thead th {\n",
              "        text-align: right;\n",
              "    }\n",
              "</style>\n",
              "<table border=\"1\" class=\"dataframe\">\n",
              "  <thead>\n",
              "    <tr style=\"text-align: right;\">\n",
              "      <th></th>\n",
              "      <th>count</th>\n",
              "      <th>mean</th>\n",
              "      <th>std</th>\n",
              "      <th>min</th>\n",
              "      <th>25%</th>\n",
              "      <th>50%</th>\n",
              "      <th>75%</th>\n",
              "      <th>max</th>\n",
              "    </tr>\n",
              "    <tr>\n",
              "      <th>Marker</th>\n",
              "      <th></th>\n",
              "      <th></th>\n",
              "      <th></th>\n",
              "      <th></th>\n",
              "      <th></th>\n",
              "      <th></th>\n",
              "      <th></th>\n",
              "      <th></th>\n",
              "    </tr>\n",
              "  </thead>\n",
              "  <tbody>\n",
              "    <tr>\n",
              "      <th>Pvalb</th>\n",
              "      <td>256.0</td>\n",
              "      <td>-54.548074</td>\n",
              "      <td>5.870670</td>\n",
              "      <td>-76.687508</td>\n",
              "      <td>-57.914063</td>\n",
              "      <td>-54.490629</td>\n",
              "      <td>-51.364065</td>\n",
              "      <td>-30.406252</td>\n",
              "    </tr>\n",
              "    <tr>\n",
              "      <th>Sst</th>\n",
              "      <td>109.0</td>\n",
              "      <td>-52.514968</td>\n",
              "      <td>4.958103</td>\n",
              "      <td>-64.375008</td>\n",
              "      <td>-55.931252</td>\n",
              "      <td>-52.568752</td>\n",
              "      <td>-48.500000</td>\n",
              "      <td>-40.781254</td>\n",
              "    </tr>\n",
              "  </tbody>\n",
              "</table>\n",
              "</div>\n",
              "    <div class=\"colab-df-buttons\">\n",
              "\n",
              "  <div class=\"colab-df-container\">\n",
              "    <button class=\"colab-df-convert\" onclick=\"convertToInteractive('df-2cdb72e5-12a6-4ecc-9579-71bf7d21b6d3')\"\n",
              "            title=\"Convert this dataframe to an interactive table.\"\n",
              "            style=\"display:none;\">\n",
              "\n",
              "  <svg xmlns=\"http://www.w3.org/2000/svg\" height=\"24px\" viewBox=\"0 -960 960 960\">\n",
              "    <path d=\"M120-120v-720h720v720H120Zm60-500h600v-160H180v160Zm220 220h160v-160H400v160Zm0 220h160v-160H400v160ZM180-400h160v-160H180v160Zm440 0h160v-160H620v160ZM180-180h160v-160H180v160Zm440 0h160v-160H620v160Z\"/>\n",
              "  </svg>\n",
              "    </button>\n",
              "\n",
              "  <style>\n",
              "    .colab-df-container {\n",
              "      display:flex;\n",
              "      gap: 12px;\n",
              "    }\n",
              "\n",
              "    .colab-df-convert {\n",
              "      background-color: #E8F0FE;\n",
              "      border: none;\n",
              "      border-radius: 50%;\n",
              "      cursor: pointer;\n",
              "      display: none;\n",
              "      fill: #1967D2;\n",
              "      height: 32px;\n",
              "      padding: 0 0 0 0;\n",
              "      width: 32px;\n",
              "    }\n",
              "\n",
              "    .colab-df-convert:hover {\n",
              "      background-color: #E2EBFA;\n",
              "      box-shadow: 0px 1px 2px rgba(60, 64, 67, 0.3), 0px 1px 3px 1px rgba(60, 64, 67, 0.15);\n",
              "      fill: #174EA6;\n",
              "    }\n",
              "\n",
              "    .colab-df-buttons div {\n",
              "      margin-bottom: 4px;\n",
              "    }\n",
              "\n",
              "    [theme=dark] .colab-df-convert {\n",
              "      background-color: #3B4455;\n",
              "      fill: #D2E3FC;\n",
              "    }\n",
              "\n",
              "    [theme=dark] .colab-df-convert:hover {\n",
              "      background-color: #434B5C;\n",
              "      box-shadow: 0px 1px 3px 1px rgba(0, 0, 0, 0.15);\n",
              "      filter: drop-shadow(0px 1px 2px rgba(0, 0, 0, 0.3));\n",
              "      fill: #FFFFFF;\n",
              "    }\n",
              "  </style>\n",
              "\n",
              "    <script>\n",
              "      const buttonEl =\n",
              "        document.querySelector('#df-2cdb72e5-12a6-4ecc-9579-71bf7d21b6d3 button.colab-df-convert');\n",
              "      buttonEl.style.display =\n",
              "        google.colab.kernel.accessAllowed ? 'block' : 'none';\n",
              "\n",
              "      async function convertToInteractive(key) {\n",
              "        const element = document.querySelector('#df-2cdb72e5-12a6-4ecc-9579-71bf7d21b6d3');\n",
              "        const dataTable =\n",
              "          await google.colab.kernel.invokeFunction('convertToInteractive',\n",
              "                                                    [key], {});\n",
              "        if (!dataTable) return;\n",
              "\n",
              "        const docLinkHtml = 'Like what you see? Visit the ' +\n",
              "          '<a target=\"_blank\" href=https://colab.research.google.com/notebooks/data_table.ipynb>data table notebook</a>'\n",
              "          + ' to learn more about interactive tables.';\n",
              "        element.innerHTML = '';\n",
              "        dataTable['output_type'] = 'display_data';\n",
              "        await google.colab.output.renderOutput(dataTable, element);\n",
              "        const docLink = document.createElement('div');\n",
              "        docLink.innerHTML = docLinkHtml;\n",
              "        element.appendChild(docLink);\n",
              "      }\n",
              "    </script>\n",
              "  </div>\n",
              "\n",
              "\n",
              "<div id=\"df-f8b04c95-d13d-4d12-9783-1155efa05ac5\">\n",
              "  <button class=\"colab-df-quickchart\" onclick=\"quickchart('df-f8b04c95-d13d-4d12-9783-1155efa05ac5')\"\n",
              "            title=\"Suggest charts\"\n",
              "            style=\"display:none;\">\n",
              "\n",
              "<svg xmlns=\"http://www.w3.org/2000/svg\" height=\"24px\"viewBox=\"0 0 24 24\"\n",
              "     width=\"24px\">\n",
              "    <g>\n",
              "        <path d=\"M19 3H5c-1.1 0-2 .9-2 2v14c0 1.1.9 2 2 2h14c1.1 0 2-.9 2-2V5c0-1.1-.9-2-2-2zM9 17H7v-7h2v7zm4 0h-2V7h2v10zm4 0h-2v-4h2v4z\"/>\n",
              "    </g>\n",
              "</svg>\n",
              "  </button>\n",
              "\n",
              "<style>\n",
              "  .colab-df-quickchart {\n",
              "      --bg-color: #E8F0FE;\n",
              "      --fill-color: #1967D2;\n",
              "      --hover-bg-color: #E2EBFA;\n",
              "      --hover-fill-color: #174EA6;\n",
              "      --disabled-fill-color: #AAA;\n",
              "      --disabled-bg-color: #DDD;\n",
              "  }\n",
              "\n",
              "  [theme=dark] .colab-df-quickchart {\n",
              "      --bg-color: #3B4455;\n",
              "      --fill-color: #D2E3FC;\n",
              "      --hover-bg-color: #434B5C;\n",
              "      --hover-fill-color: #FFFFFF;\n",
              "      --disabled-bg-color: #3B4455;\n",
              "      --disabled-fill-color: #666;\n",
              "  }\n",
              "\n",
              "  .colab-df-quickchart {\n",
              "    background-color: var(--bg-color);\n",
              "    border: none;\n",
              "    border-radius: 50%;\n",
              "    cursor: pointer;\n",
              "    display: none;\n",
              "    fill: var(--fill-color);\n",
              "    height: 32px;\n",
              "    padding: 0;\n",
              "    width: 32px;\n",
              "  }\n",
              "\n",
              "  .colab-df-quickchart:hover {\n",
              "    background-color: var(--hover-bg-color);\n",
              "    box-shadow: 0 1px 2px rgba(60, 64, 67, 0.3), 0 1px 3px 1px rgba(60, 64, 67, 0.15);\n",
              "    fill: var(--button-hover-fill-color);\n",
              "  }\n",
              "\n",
              "  .colab-df-quickchart-complete:disabled,\n",
              "  .colab-df-quickchart-complete:disabled:hover {\n",
              "    background-color: var(--disabled-bg-color);\n",
              "    fill: var(--disabled-fill-color);\n",
              "    box-shadow: none;\n",
              "  }\n",
              "\n",
              "  .colab-df-spinner {\n",
              "    border: 2px solid var(--fill-color);\n",
              "    border-color: transparent;\n",
              "    border-bottom-color: var(--fill-color);\n",
              "    animation:\n",
              "      spin 1s steps(1) infinite;\n",
              "  }\n",
              "\n",
              "  @keyframes spin {\n",
              "    0% {\n",
              "      border-color: transparent;\n",
              "      border-bottom-color: var(--fill-color);\n",
              "      border-left-color: var(--fill-color);\n",
              "    }\n",
              "    20% {\n",
              "      border-color: transparent;\n",
              "      border-left-color: var(--fill-color);\n",
              "      border-top-color: var(--fill-color);\n",
              "    }\n",
              "    30% {\n",
              "      border-color: transparent;\n",
              "      border-left-color: var(--fill-color);\n",
              "      border-top-color: var(--fill-color);\n",
              "      border-right-color: var(--fill-color);\n",
              "    }\n",
              "    40% {\n",
              "      border-color: transparent;\n",
              "      border-right-color: var(--fill-color);\n",
              "      border-top-color: var(--fill-color);\n",
              "    }\n",
              "    60% {\n",
              "      border-color: transparent;\n",
              "      border-right-color: var(--fill-color);\n",
              "    }\n",
              "    80% {\n",
              "      border-color: transparent;\n",
              "      border-right-color: var(--fill-color);\n",
              "      border-bottom-color: var(--fill-color);\n",
              "    }\n",
              "    90% {\n",
              "      border-color: transparent;\n",
              "      border-bottom-color: var(--fill-color);\n",
              "    }\n",
              "  }\n",
              "</style>\n",
              "\n",
              "  <script>\n",
              "    async function quickchart(key) {\n",
              "      const quickchartButtonEl =\n",
              "        document.querySelector('#' + key + ' button');\n",
              "      quickchartButtonEl.disabled = true;  // To prevent multiple clicks.\n",
              "      quickchartButtonEl.classList.add('colab-df-spinner');\n",
              "      try {\n",
              "        const charts = await google.colab.kernel.invokeFunction(\n",
              "            'suggestCharts', [key], {});\n",
              "      } catch (error) {\n",
              "        console.error('Error during call to suggestCharts:', error);\n",
              "      }\n",
              "      quickchartButtonEl.classList.remove('colab-df-spinner');\n",
              "      quickchartButtonEl.classList.add('colab-df-quickchart-complete');\n",
              "    }\n",
              "    (() => {\n",
              "      let quickchartButtonEl =\n",
              "        document.querySelector('#df-f8b04c95-d13d-4d12-9783-1155efa05ac5 button');\n",
              "      quickchartButtonEl.style.display =\n",
              "        google.colab.kernel.accessAllowed ? 'block' : 'none';\n",
              "    })();\n",
              "  </script>\n",
              "</div>\n",
              "    </div>\n",
              "  </div>\n"
            ],
            "application/vnd.google.colaboratory.intrinsic+json": {
              "type": "dataframe",
              "summary": "{\n  \"name\": \"patch_seq\",\n  \"rows\": 2,\n  \"fields\": [\n    {\n      \"column\": \"count\",\n      \"properties\": {\n        \"dtype\": \"number\",\n        \"std\": 103.94469683442249,\n        \"min\": 109.0,\n        \"max\": 256.0,\n        \"num_unique_values\": 2,\n        \"samples\": [\n          109.0,\n          256.0\n        ],\n        \"semantic_type\": \"\",\n        \"description\": \"\"\n      }\n    },\n    {\n      \"column\": \"mean\",\n      \"properties\": {\n        \"dtype\": \"number\",\n        \"std\": 1.4376230399307475,\n        \"min\": -54.54807350679687,\n        \"max\": -52.51496750614677,\n        \"num_unique_values\": 2,\n        \"samples\": [\n          -52.51496750614677,\n          -54.54807350679687\n        ],\n        \"semantic_type\": \"\",\n        \"description\": \"\"\n      }\n    },\n    {\n      \"column\": \"std\",\n      \"properties\": {\n        \"dtype\": \"number\",\n        \"std\": 0.6452827573169477,\n        \"min\": 4.958102653000737,\n        \"max\": 5.870670279963871,\n        \"num_unique_values\": 2,\n        \"samples\": [\n          4.958102653000737,\n          5.870670279963871\n        ],\n        \"semantic_type\": \"\",\n        \"description\": \"\"\n      }\n    },\n    {\n      \"column\": \"min\",\n      \"properties\": {\n        \"dtype\": \"number\",\n        \"std\": 8.706252243359366,\n        \"min\": -76.68750763,\n        \"max\": -64.37500763,\n        \"num_unique_values\": 2,\n        \"samples\": [\n          -64.37500763,\n          -76.68750763\n        ],\n        \"semantic_type\": \"\",\n        \"description\": \"\"\n      }\n    },\n    {\n      \"column\": \"25%\",\n      \"properties\": {\n        \"dtype\": \"number\",\n        \"std\": 1.4020597562172887,\n        \"min\": -57.9140634525,\n        \"max\": -55.93125153,\n        \"num_unique_values\": 2,\n        \"samples\": [\n          -55.93125153,\n          -57.9140634525\n        ],\n        \"semantic_type\": \"\",\n        \"description\": \"\"\n      }\n    },\n    {\n      \"column\": \"50%\",\n      \"properties\": {\n        \"dtype\": \"number\",\n        \"std\": 1.3589721921313125,\n        \"min\": -54.490629195,\n        \"max\": -52.56875229,\n        \"num_unique_values\": 2,\n        \"samples\": [\n          -52.56875229,\n          -54.490629195\n        ],\n        \"semantic_type\": \"\",\n        \"description\": \"\"\n      }\n    },\n    {\n      \"column\": \"75%\",\n      \"properties\": {\n        \"dtype\": \"number\",\n        \"std\": 2.0251999034672044,\n        \"min\": -51.36406517,\n        \"max\": -48.5,\n        \"num_unique_values\": 2,\n        \"samples\": [\n          -48.5,\n          -51.36406517\n        ],\n        \"semantic_type\": \"\",\n        \"description\": \"\"\n      }\n    },\n    {\n      \"column\": \"max\",\n      \"properties\": {\n        \"dtype\": \"number\",\n        \"std\": 7.336234198313315,\n        \"min\": -40.78125381,\n        \"max\": -30.40625191,\n        \"num_unique_values\": 2,\n        \"samples\": [\n          -40.78125381,\n          -30.40625191\n        ],\n        \"semantic_type\": \"\",\n        \"description\": \"\"\n      }\n    }\n  ]\n}"
            }
          },
          "metadata": {},
          "execution_count": 7
        }
      ]
    },
    {
      "cell_type": "markdown",
      "source": [
        "Pvalb Neurons appear to have the more negative undershoot means compared to the Sst neurons  by about 2 mV"
      ],
      "metadata": {
        "id": "XhAAObb0X5O1"
      }
    },
    {
      "cell_type": "code",
      "source": [
        "patch_seq.groupby('Marker')['Fast_Trough'].skew() #running the skew test for Fast trough data seperated by marker"
      ],
      "metadata": {
        "colab": {
          "base_uri": "https://localhost:8080/"
        },
        "id": "DM0VCU3WY6Ye",
        "outputId": "b2ee7bd0-22c8-4220-c7d9-3945fb69fd69"
      },
      "execution_count": 8,
      "outputs": [
        {
          "output_type": "execute_result",
          "data": {
            "text/plain": [
              "Marker\n",
              "Pvalb    0.19536\n",
              "Sst      0.00125\n",
              "Name: Fast_Trough, dtype: float64"
            ]
          },
          "metadata": {},
          "execution_count": 8
        }
      ]
    },
    {
      "cell_type": "markdown",
      "source": [
        "Skew test shows that Pvalb Distribution for fast trough is skewed but the SST distrubution is not."
      ],
      "metadata": {
        "id": "PgIWl8keZYUi"
      }
    },
    {
      "cell_type": "code",
      "source": [
        "patch_seq.groupby('Marker')['ISI'].skew() #Running skew tests for ISI data"
      ],
      "metadata": {
        "colab": {
          "base_uri": "https://localhost:8080/"
        },
        "id": "_7CbMU-OZwJK",
        "outputId": "dc3a057a-30d6-42f2-bc27-1e8acf39de44"
      },
      "execution_count": 9,
      "outputs": [
        {
          "output_type": "execute_result",
          "data": {
            "text/plain": [
              "Marker\n",
              "Pvalb    5.596386\n",
              "Sst      1.857850\n",
              "Name: ISI, dtype: float64"
            ]
          },
          "metadata": {},
          "execution_count": 9
        }
      ]
    },
    {
      "cell_type": "markdown",
      "source": [
        "Both Pvalb and Sst ISI data seems to be incredibly skewed, with very high values for the skew test"
      ],
      "metadata": {
        "id": "SIUdls_QZ-F5"
      }
    },
    {
      "cell_type": "code",
      "source": [
        "#Cleaning the data of any NaN values (I looked this method up on pandas website since one in notebook wasn't working for me)\n",
        "sst_neurons = patch_seq[patch_seq['Marker']=='Sst']\n",
        "Pvalb_neurons = patch_seq[patch_seq['Marker']=='Pvalb']\n",
        "sst_neurons = sst_neurons.dropna()\n",
        "Pvalb_neurons = Pvalb_neurons.dropna()\n",
        "stats.ttest_ind(sst_neurons['Fast_Trough'], Pvalb_neurons['Fast_Trough']) #running a t-test on fast trough data in\n",
        "\n"
      ],
      "metadata": {
        "colab": {
          "base_uri": "https://localhost:8080/"
        },
        "id": "3-jwuhjRcAty",
        "outputId": "3daefce0-2213-497a-abd3-e3574c3fc803"
      },
      "execution_count": 27,
      "outputs": [
        {
          "output_type": "execute_result",
          "data": {
            "text/plain": [
              "TtestResult(statistic=3.0549203198355124, pvalue=0.0024219133898888603, df=354.0)"
            ]
          },
          "metadata": {},
          "execution_count": 27
        }
      ]
    },
    {
      "cell_type": "markdown",
      "source": [
        "There does seem to be a significant difference between the two datasets, with a pvalue of .002 which is much less than .05."
      ],
      "metadata": {
        "id": "cF7-QViig25d"
      }
    },
    {
      "cell_type": "code",
      "source": [
        "stats.ttest_ind(sst_neurons['ISI'], Pvalb_neurons['ISI']) #Running another t-test with ISI values this time"
      ],
      "metadata": {
        "colab": {
          "base_uri": "https://localhost:8080/"
        },
        "id": "42fs_73BhAe9",
        "outputId": "6ac07554-14d0-4d03-83b5-92704b81b366"
      },
      "execution_count": 28,
      "outputs": [
        {
          "output_type": "execute_result",
          "data": {
            "text/plain": [
              "TtestResult(statistic=14.643966775010774, pvalue=2.694292788633572e-38, df=354.0)"
            ]
          },
          "metadata": {},
          "execution_count": 28
        }
      ]
    },
    {
      "cell_type": "markdown",
      "source": [
        "ISI does not seem to vary significantly betwen the two neuron types, with a pvalue of 2.7 which is very well over .05\n"
      ],
      "metadata": {
        "id": "2hPqRW0ghZqY"
      }
    }
  ]
}